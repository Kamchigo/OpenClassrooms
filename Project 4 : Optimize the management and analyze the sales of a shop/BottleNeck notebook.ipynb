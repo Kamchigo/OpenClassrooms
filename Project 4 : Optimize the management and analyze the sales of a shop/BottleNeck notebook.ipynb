{
 "cells": [
  {
   "attachments": {},
   "cell_type": "markdown",
   "metadata": {},
   "source": [
    "# Analyse de données BottleNeck v1 (02/2023, Kamel Badar)"
   ]
  },
  {
   "attachments": {},
   "cell_type": "markdown",
   "metadata": {},
   "source": [
    "# 1 Introduction"
   ]
  },
  {
   "attachments": {},
   "cell_type": "markdown",
   "metadata": {},
   "source": [
    "Ce notebook sera divisé en plusieurs parties : \n",
    "- L'import des données et la vérification de leur intégrité \n",
    "- Le regroupement des fichiers sources afin de constituer une base de données exploitable\n",
    "- La conduite d'analyses afin de répondre aux premières demandes"
   ]
  },
  {
   "attachments": {},
   "cell_type": "markdown",
   "metadata": {},
   "source": [
    "## 1.1 Importation des librairies"
   ]
  },
  {
   "cell_type": "code",
   "execution_count": 1,
   "metadata": {},
   "outputs": [],
   "source": [
    "# Importation de x librairies pour la manipulation et l'analyse des données\n",
    "import pandas as pd \n",
    "import numpy as np \n",
    "import matplotlib.pyplot as plt\n",
    "import seaborn as sns\n",
    "from scipy import stats"
   ]
  },
  {
   "attachments": {},
   "cell_type": "markdown",
   "metadata": {},
   "source": [
    "## 1.2 Importation des données "
   ]
  },
  {
   "cell_type": "code",
   "execution_count": 2,
   "metadata": {},
   "outputs": [],
   "source": [
    "# On importe les fichiers et on les assigne à des dataframes \n",
    "dataWeb = pd.read_excel('web.xlsx')\n",
    "dataWeb = dataWeb.rename(columns={'id_web':'sku'})\n",
    "\n",
    "dataErp = pd.read_excel('erp.xlsx')\n",
    "\n",
    "dataLiaison = pd.read_excel('liaison.xlsx')\n",
    "dataLiaison = dataLiaison.rename(columns={'id_web':'sku'})"
   ]
  },
  {
   "cell_type": "code",
   "execution_count": 41,
   "metadata": {},
   "outputs": [
    {
     "data": {
      "text/html": [
       "<div>\n",
       "<style scoped>\n",
       "    .dataframe tbody tr th:only-of-type {\n",
       "        vertical-align: middle;\n",
       "    }\n",
       "\n",
       "    .dataframe tbody tr th {\n",
       "        vertical-align: top;\n",
       "    }\n",
       "\n",
       "    .dataframe thead th {\n",
       "        text-align: right;\n",
       "    }\n",
       "</style>\n",
       "<table border=\"1\" class=\"dataframe\">\n",
       "  <thead>\n",
       "    <tr style=\"text-align: right;\">\n",
       "      <th></th>\n",
       "      <th>sku</th>\n",
       "      <th>total_sales</th>\n",
       "      <th>post_date</th>\n",
       "      <th>post_title</th>\n",
       "      <th>post_name</th>\n",
       "      <th>post_type</th>\n",
       "    </tr>\n",
       "  </thead>\n",
       "  <tbody>\n",
       "    <tr>\n",
       "      <th>0</th>\n",
       "      <td>38</td>\n",
       "      <td>38.0</td>\n",
       "      <td>2018-04-18 12:25:58</td>\n",
       "      <td>Emile Boeckel Crémant Brut Blanc de Blancs</td>\n",
       "      <td>emile-boeckel-cremant-brut-blanc-de-blancs</td>\n",
       "      <td>product</td>\n",
       "    </tr>\n",
       "    <tr>\n",
       "      <th>1</th>\n",
       "      <td>38</td>\n",
       "      <td>38.0</td>\n",
       "      <td>2018-04-18 12:25:58</td>\n",
       "      <td>Emile Boeckel Crémant Brut Blanc de Blancs</td>\n",
       "      <td>emile-boeckel-cremant-brut-blanc-de-blancs</td>\n",
       "      <td>attachment</td>\n",
       "    </tr>\n",
       "    <tr>\n",
       "      <th>2</th>\n",
       "      <td>41</td>\n",
       "      <td>0.0</td>\n",
       "      <td>2018-04-14 12:01:43</td>\n",
       "      <td>Marcel Windholtz Eau de Vie de Marc de Gewurzt...</td>\n",
       "      <td>marcel-windholtz-eau-de-marc-de-gewurztraminer</td>\n",
       "      <td>product</td>\n",
       "    </tr>\n",
       "    <tr>\n",
       "      <th>3</th>\n",
       "      <td>41</td>\n",
       "      <td>0.0</td>\n",
       "      <td>2018-04-14 12:01:43</td>\n",
       "      <td>Marcel Windholtz Eau de Vie de Marc de Gewurzt...</td>\n",
       "      <td>marcel-windholtz-eau-de-marc-de-gewurztraminer</td>\n",
       "      <td>attachment</td>\n",
       "    </tr>\n",
       "    <tr>\n",
       "      <th>4</th>\n",
       "      <td>304</td>\n",
       "      <td>40.0</td>\n",
       "      <td>2018-02-13 12:57:44</td>\n",
       "      <td>Champagne Gosset Grande Réserve</td>\n",
       "      <td>gosset-champagne-grande-reserve</td>\n",
       "      <td>product</td>\n",
       "    </tr>\n",
       "    <tr>\n",
       "      <th>...</th>\n",
       "      <td>...</td>\n",
       "      <td>...</td>\n",
       "      <td>...</td>\n",
       "      <td>...</td>\n",
       "      <td>...</td>\n",
       "      <td>...</td>\n",
       "    </tr>\n",
       "    <tr>\n",
       "      <th>1447</th>\n",
       "      <td>NaN</td>\n",
       "      <td>NaN</td>\n",
       "      <td>NaT</td>\n",
       "      <td>NaN</td>\n",
       "      <td>NaN</td>\n",
       "      <td>NaN</td>\n",
       "    </tr>\n",
       "    <tr>\n",
       "      <th>1448</th>\n",
       "      <td>NaN</td>\n",
       "      <td>NaN</td>\n",
       "      <td>NaT</td>\n",
       "      <td>NaN</td>\n",
       "      <td>NaN</td>\n",
       "      <td>NaN</td>\n",
       "    </tr>\n",
       "    <tr>\n",
       "      <th>1449</th>\n",
       "      <td>NaN</td>\n",
       "      <td>NaN</td>\n",
       "      <td>NaT</td>\n",
       "      <td>NaN</td>\n",
       "      <td>NaN</td>\n",
       "      <td>NaN</td>\n",
       "    </tr>\n",
       "    <tr>\n",
       "      <th>1450</th>\n",
       "      <td>NaN</td>\n",
       "      <td>0.0</td>\n",
       "      <td>2018-07-31 12:07:23</td>\n",
       "      <td>Pierre Jean Villa Côte Rôtie Fongeant 2017</td>\n",
       "      <td>pierre-jean-villa-cote-rotie-fongeant-2017</td>\n",
       "      <td>product</td>\n",
       "    </tr>\n",
       "    <tr>\n",
       "      <th>1451</th>\n",
       "      <td>NaN</td>\n",
       "      <td>0.0</td>\n",
       "      <td>2018-08-08 11:23:43</td>\n",
       "      <td>Pierre Jean Villa Condrieu Jardin Suspendu 2018</td>\n",
       "      <td>pierre-jean-villa-condrieu-suspendu-2018</td>\n",
       "      <td>product</td>\n",
       "    </tr>\n",
       "  </tbody>\n",
       "</table>\n",
       "<p>1452 rows × 6 columns</p>\n",
       "</div>"
      ],
      "text/plain": [
       "      sku  total_sales           post_date  \\\n",
       "0      38         38.0 2018-04-18 12:25:58   \n",
       "1      38         38.0 2018-04-18 12:25:58   \n",
       "2      41          0.0 2018-04-14 12:01:43   \n",
       "3      41          0.0 2018-04-14 12:01:43   \n",
       "4     304         40.0 2018-02-13 12:57:44   \n",
       "...   ...          ...                 ...   \n",
       "1447  NaN          NaN                 NaT   \n",
       "1448  NaN          NaN                 NaT   \n",
       "1449  NaN          NaN                 NaT   \n",
       "1450  NaN          0.0 2018-07-31 12:07:23   \n",
       "1451  NaN          0.0 2018-08-08 11:23:43   \n",
       "\n",
       "                                             post_title  \\\n",
       "0            Emile Boeckel Crémant Brut Blanc de Blancs   \n",
       "1            Emile Boeckel Crémant Brut Blanc de Blancs   \n",
       "2     Marcel Windholtz Eau de Vie de Marc de Gewurzt...   \n",
       "3     Marcel Windholtz Eau de Vie de Marc de Gewurzt...   \n",
       "4                       Champagne Gosset Grande Réserve   \n",
       "...                                                 ...   \n",
       "1447                                                NaN   \n",
       "1448                                                NaN   \n",
       "1449                                                NaN   \n",
       "1450         Pierre Jean Villa Côte Rôtie Fongeant 2017   \n",
       "1451    Pierre Jean Villa Condrieu Jardin Suspendu 2018   \n",
       "\n",
       "                                           post_name   post_type  \n",
       "0         emile-boeckel-cremant-brut-blanc-de-blancs     product  \n",
       "1         emile-boeckel-cremant-brut-blanc-de-blancs  attachment  \n",
       "2     marcel-windholtz-eau-de-marc-de-gewurztraminer     product  \n",
       "3     marcel-windholtz-eau-de-marc-de-gewurztraminer  attachment  \n",
       "4                    gosset-champagne-grande-reserve     product  \n",
       "...                                              ...         ...  \n",
       "1447                                             NaN         NaN  \n",
       "1448                                             NaN         NaN  \n",
       "1449                                             NaN         NaN  \n",
       "1450      pierre-jean-villa-cote-rotie-fongeant-2017     product  \n",
       "1451        pierre-jean-villa-condrieu-suspendu-2018     product  \n",
       "\n",
       "[1452 rows x 6 columns]"
      ]
     },
     "execution_count": 41,
     "metadata": {},
     "output_type": "execute_result"
    }
   ],
   "source": [
    "# Vérification du chargement de chaque DF\n",
    "dataWeb"
   ]
  },
  {
   "cell_type": "code",
   "execution_count": 42,
   "metadata": {},
   "outputs": [
    {
     "data": {
      "text/html": [
       "<div>\n",
       "<style scoped>\n",
       "    .dataframe tbody tr th:only-of-type {\n",
       "        vertical-align: middle;\n",
       "    }\n",
       "\n",
       "    .dataframe tbody tr th {\n",
       "        vertical-align: top;\n",
       "    }\n",
       "\n",
       "    .dataframe thead th {\n",
       "        text-align: right;\n",
       "    }\n",
       "</style>\n",
       "<table border=\"1\" class=\"dataframe\">\n",
       "  <thead>\n",
       "    <tr style=\"text-align: right;\">\n",
       "      <th></th>\n",
       "      <th>product_id</th>\n",
       "      <th>price</th>\n",
       "    </tr>\n",
       "  </thead>\n",
       "  <tbody>\n",
       "    <tr>\n",
       "      <th>0</th>\n",
       "      <td>4041</td>\n",
       "      <td>32.7</td>\n",
       "    </tr>\n",
       "    <tr>\n",
       "      <th>1</th>\n",
       "      <td>4042</td>\n",
       "      <td>31.2</td>\n",
       "    </tr>\n",
       "    <tr>\n",
       "      <th>2</th>\n",
       "      <td>4043</td>\n",
       "      <td>60.0</td>\n",
       "    </tr>\n",
       "    <tr>\n",
       "      <th>3</th>\n",
       "      <td>4045</td>\n",
       "      <td>42.6</td>\n",
       "    </tr>\n",
       "    <tr>\n",
       "      <th>4</th>\n",
       "      <td>4047</td>\n",
       "      <td>18.3</td>\n",
       "    </tr>\n",
       "    <tr>\n",
       "      <th>...</th>\n",
       "      <td>...</td>\n",
       "      <td>...</td>\n",
       "    </tr>\n",
       "    <tr>\n",
       "      <th>820</th>\n",
       "      <td>6578</td>\n",
       "      <td>40.0</td>\n",
       "    </tr>\n",
       "    <tr>\n",
       "      <th>821</th>\n",
       "      <td>6751</td>\n",
       "      <td>46.5</td>\n",
       "    </tr>\n",
       "    <tr>\n",
       "      <th>822</th>\n",
       "      <td>6886</td>\n",
       "      <td>42.0</td>\n",
       "    </tr>\n",
       "    <tr>\n",
       "      <th>823</th>\n",
       "      <td>6900</td>\n",
       "      <td>30.0</td>\n",
       "    </tr>\n",
       "    <tr>\n",
       "      <th>824</th>\n",
       "      <td>6901</td>\n",
       "      <td>20.0</td>\n",
       "    </tr>\n",
       "  </tbody>\n",
       "</table>\n",
       "<p>825 rows × 2 columns</p>\n",
       "</div>"
      ],
      "text/plain": [
       "     product_id  price\n",
       "0          4041   32.7\n",
       "1          4042   31.2\n",
       "2          4043   60.0\n",
       "3          4045   42.6\n",
       "4          4047   18.3\n",
       "..          ...    ...\n",
       "820        6578   40.0\n",
       "821        6751   46.5\n",
       "822        6886   42.0\n",
       "823        6900   30.0\n",
       "824        6901   20.0\n",
       "\n",
       "[825 rows x 2 columns]"
      ]
     },
     "execution_count": 42,
     "metadata": {},
     "output_type": "execute_result"
    }
   ],
   "source": [
    "dataErp"
   ]
  },
  {
   "cell_type": "code",
   "execution_count": 43,
   "metadata": {},
   "outputs": [
    {
     "data": {
      "text/html": [
       "<div>\n",
       "<style scoped>\n",
       "    .dataframe tbody tr th:only-of-type {\n",
       "        vertical-align: middle;\n",
       "    }\n",
       "\n",
       "    .dataframe tbody tr th {\n",
       "        vertical-align: top;\n",
       "    }\n",
       "\n",
       "    .dataframe thead th {\n",
       "        text-align: right;\n",
       "    }\n",
       "</style>\n",
       "<table border=\"1\" class=\"dataframe\">\n",
       "  <thead>\n",
       "    <tr style=\"text-align: right;\">\n",
       "      <th></th>\n",
       "      <th>product_id</th>\n",
       "      <th>sku</th>\n",
       "    </tr>\n",
       "  </thead>\n",
       "  <tbody>\n",
       "    <tr>\n",
       "      <th>0</th>\n",
       "      <td>3847</td>\n",
       "      <td>15298</td>\n",
       "    </tr>\n",
       "    <tr>\n",
       "      <th>1</th>\n",
       "      <td>3849</td>\n",
       "      <td>15296</td>\n",
       "    </tr>\n",
       "    <tr>\n",
       "      <th>2</th>\n",
       "      <td>3850</td>\n",
       "      <td>15300</td>\n",
       "    </tr>\n",
       "    <tr>\n",
       "      <th>3</th>\n",
       "      <td>4032</td>\n",
       "      <td>19814</td>\n",
       "    </tr>\n",
       "    <tr>\n",
       "      <th>4</th>\n",
       "      <td>4039</td>\n",
       "      <td>19815</td>\n",
       "    </tr>\n",
       "    <tr>\n",
       "      <th>...</th>\n",
       "      <td>...</td>\n",
       "      <td>...</td>\n",
       "    </tr>\n",
       "    <tr>\n",
       "      <th>820</th>\n",
       "      <td>7203</td>\n",
       "      <td>NaN</td>\n",
       "    </tr>\n",
       "    <tr>\n",
       "      <th>821</th>\n",
       "      <td>7204</td>\n",
       "      <td>NaN</td>\n",
       "    </tr>\n",
       "    <tr>\n",
       "      <th>822</th>\n",
       "      <td>7247</td>\n",
       "      <td>13128</td>\n",
       "    </tr>\n",
       "    <tr>\n",
       "      <th>823</th>\n",
       "      <td>7329</td>\n",
       "      <td>14681</td>\n",
       "    </tr>\n",
       "    <tr>\n",
       "      <th>824</th>\n",
       "      <td>7338</td>\n",
       "      <td>16230</td>\n",
       "    </tr>\n",
       "  </tbody>\n",
       "</table>\n",
       "<p>825 rows × 2 columns</p>\n",
       "</div>"
      ],
      "text/plain": [
       "     product_id    sku\n",
       "0          3847  15298\n",
       "1          3849  15296\n",
       "2          3850  15300\n",
       "3          4032  19814\n",
       "4          4039  19815\n",
       "..          ...    ...\n",
       "820        7203    NaN\n",
       "821        7204    NaN\n",
       "822        7247  13128\n",
       "823        7329  14681\n",
       "824        7338  16230\n",
       "\n",
       "[825 rows x 2 columns]"
      ]
     },
     "execution_count": 43,
     "metadata": {},
     "output_type": "execute_result"
    }
   ],
   "source": [
    "dataLiaison"
   ]
  },
  {
   "attachments": {},
   "cell_type": "markdown",
   "metadata": {},
   "source": [
    "Les données ont été correctement chargées dans nos dataframes."
   ]
  },
  {
   "attachments": {},
   "cell_type": "markdown",
   "metadata": {},
   "source": [
    "## 1.3 DF dataErp"
   ]
  },
  {
   "cell_type": "code",
   "execution_count": 6,
   "metadata": {},
   "outputs": [],
   "source": [
    "# On crée un DF sans les colonnes qui ne serviront pas pour cette analyse pour plus de visibilité\n",
    "\n",
    "dataErp2 = dataErp[['product_id','price']]"
   ]
  },
  {
   "cell_type": "code",
   "execution_count": 7,
   "metadata": {},
   "outputs": [
    {
     "data": {
      "text/plain": [
       "product_id      int64\n",
       "price         float64\n",
       "dtype: object"
      ]
     },
     "execution_count": 7,
     "metadata": {},
     "output_type": "execute_result"
    }
   ],
   "source": [
    "# On analyse les types de données des différentes colonnes du DF\n",
    "dataErp2.dtypes"
   ]
  },
  {
   "attachments": {},
   "cell_type": "markdown",
   "metadata": {},
   "source": [
    "Les types de données semblent adéquats"
   ]
  },
  {
   "cell_type": "code",
   "execution_count": 8,
   "metadata": {},
   "outputs": [
    {
     "data": {
      "text/plain": [
       "product_id    0\n",
       "price         0\n",
       "dtype: int64"
      ]
     },
     "execution_count": 8,
     "metadata": {},
     "output_type": "execute_result"
    }
   ],
   "source": [
    "# On cherche la présence de valeurs nulles dans le DF\n",
    "dataErp2.isna().sum()"
   ]
  },
  {
   "attachments": {},
   "cell_type": "markdown",
   "metadata": {},
   "source": [
    "Il n'y a pas de valeur manquante"
   ]
  },
  {
   "cell_type": "code",
   "execution_count": 9,
   "metadata": {},
   "outputs": [
    {
     "data": {
      "text/plain": [
       "False"
      ]
     },
     "execution_count": 9,
     "metadata": {},
     "output_type": "execute_result"
    }
   ],
   "source": [
    "# On cherche la présence de doublons dans le DF\n",
    "dataErp2.duplicated('product_id').any()"
   ]
  },
  {
   "attachments": {},
   "cell_type": "markdown",
   "metadata": {},
   "source": [
    "Pas de doublon dans la colonne 'product_id'"
   ]
  },
  {
   "attachments": {},
   "cell_type": "markdown",
   "metadata": {},
   "source": [
    "## 1.4 DF dataWeb"
   ]
  },
  {
   "cell_type": "code",
   "execution_count": 10,
   "metadata": {},
   "outputs": [],
   "source": [
    "# On crée un DF sans les colonnes qui ne serviront pas pour cette analyse pour plus de visibilité \n",
    "\n",
    "dataWeb2 = dataWeb[['sku', 'total_sales','post_title','post_type']]\n"
   ]
  },
  {
   "cell_type": "code",
   "execution_count": 11,
   "metadata": {},
   "outputs": [],
   "source": [
    "# On modifie le DF de sorte à garder uniquement les informations concernant les produits\n",
    "# car la valeur 'attachment' pour la colonne 'post_type' génère des doublons \n",
    "dataWeb2 = dataWeb2[dataWeb2['post_type']=='product']"
   ]
  },
  {
   "cell_type": "code",
   "execution_count": 12,
   "metadata": {},
   "outputs": [
    {
     "data": {
      "text/plain": [
       "sku             object\n",
       "total_sales    float64\n",
       "post_title      object\n",
       "post_type       object\n",
       "dtype: object"
      ]
     },
     "execution_count": 12,
     "metadata": {},
     "output_type": "execute_result"
    }
   ],
   "source": [
    "# On analyse les types de données des différentes colonnes du DF\n",
    "dataWeb2.dtypes"
   ]
  },
  {
   "attachments": {},
   "cell_type": "markdown",
   "metadata": {},
   "source": [
    "Le type de 'sku' est object alors qu'il devrait à priori être integer. Il faut vérifier les valeurs de la colonne pour savoir si un changement de type est envisageable.\n",
    "Le type de 'total_sales' est float alors qu'il devrait également être integer car les ventes sont toujours exprimées par un entier. "
   ]
  },
  {
   "attachments": {},
   "cell_type": "markdown",
   "metadata": {},
   "source": [
    "### 1.4.1 Colonne 'sku'"
   ]
  },
  {
   "cell_type": "code",
   "execution_count": 13,
   "metadata": {},
   "outputs": [
    {
     "name": "stdout",
     "output_type": "stream",
     "text": [
      "13127-1 is a string.\n",
      "bon-cadeau-25-euros is a string.\n"
     ]
    }
   ],
   "source": [
    "# Création d'une fonction afin d'identifier les valeurs ayant le type string dans la colonne sku\n",
    "for value in dataWeb2['sku']:\n",
    "    if isinstance(value, str):\n",
    "        print(value, \"is a string.\")"
   ]
  },
  {
   "attachments": {},
   "cell_type": "markdown",
   "metadata": {},
   "source": [
    "On constate qu'il y a 2 resultats renvoyés ce qui signifie que ces valeurs sont de type string."
   ]
  },
  {
   "cell_type": "code",
   "execution_count": 14,
   "metadata": {},
   "outputs": [],
   "source": [
    "# On transforme la chaîne de caractère par un integer\n",
    "dataWeb2.loc[dataWeb2['sku'] == 'bon-cadeau-25-euros', 'sku'] = 37"
   ]
  },
  {
   "attachments": {},
   "cell_type": "markdown",
   "metadata": {},
   "source": [
    "On choisit 37 car c'est la plus petite valeur pour le SKU à laquelle on soustrait 1 (38-1)"
   ]
  },
  {
   "cell_type": "code",
   "execution_count": 15,
   "metadata": {},
   "outputs": [],
   "source": [
    "# On transforme la chaîne de caractère par un integer\n",
    "dataWeb2.loc[dataWeb2['sku'] == '13127-1', 'sku'] = 13128"
   ]
  },
  {
   "attachments": {},
   "cell_type": "markdown",
   "metadata": {},
   "source": [
    "On choisit 13128 car ce n'est pas une valeur présente dans le DF et que 13127 existe déjà et correspond au même vin mais issu d'une année différente (2020 vs 2007)"
   ]
  },
  {
   "cell_type": "code",
   "execution_count": 16,
   "metadata": {},
   "outputs": [],
   "source": [
    "# On réexécute la fonction afin de contrôler si il reste des chaînes de caractères\n",
    "for value in dataWeb2['sku']:\n",
    "    if isinstance(value, str):\n",
    "        print(value, \"is a string.\")"
   ]
  },
  {
   "attachments": {},
   "cell_type": "markdown",
   "metadata": {},
   "source": [
    "Rien ne s'affiche, il n'y a donc plus de chaînes de caractères"
   ]
  },
  {
   "cell_type": "code",
   "execution_count": 17,
   "metadata": {},
   "outputs": [],
   "source": [
    "# On supprime les valeurs manquantes\n",
    "dataWeb2.dropna(inplace=True)"
   ]
  },
  {
   "cell_type": "code",
   "execution_count": 18,
   "metadata": {},
   "outputs": [
    {
     "data": {
      "text/plain": [
       "sku            False\n",
       "total_sales    False\n",
       "post_title     False\n",
       "post_type      False\n",
       "dtype: bool"
      ]
     },
     "execution_count": 18,
     "metadata": {},
     "output_type": "execute_result"
    }
   ],
   "source": [
    "# On contrôle le nombre de valeurs manquantes après la manipulation\n",
    "dataWeb2.isna().any()"
   ]
  },
  {
   "attachments": {},
   "cell_type": "markdown",
   "metadata": {},
   "source": [
    "Il n'y a plus de valeur manquante, on peut convertir la colonne au type integer"
   ]
  },
  {
   "cell_type": "code",
   "execution_count": 19,
   "metadata": {},
   "outputs": [
    {
     "data": {
      "text/plain": [
       "sku              int32\n",
       "total_sales    float64\n",
       "post_title      object\n",
       "post_type       object\n",
       "dtype: object"
      ]
     },
     "execution_count": 19,
     "metadata": {},
     "output_type": "execute_result"
    }
   ],
   "source": [
    "# On convertit la colonne sku en integer\n",
    "dataWeb2['sku'] = dataWeb2['sku'].astype(int)\n",
    "dataWeb2.dtypes"
   ]
  },
  {
   "attachments": {},
   "cell_type": "markdown",
   "metadata": {},
   "source": [
    "#### 1.4.2 Colonne 'total_sales'"
   ]
  },
  {
   "cell_type": "code",
   "execution_count": 20,
   "metadata": {},
   "outputs": [
    {
     "data": {
      "text/plain": [
       "sku             int32\n",
       "total_sales     int32\n",
       "post_title     object\n",
       "post_type      object\n",
       "dtype: object"
      ]
     },
     "execution_count": 20,
     "metadata": {},
     "output_type": "execute_result"
    }
   ],
   "source": [
    "# On convertit la colonne au type integer\n",
    "\n",
    "dataWeb2['total_sales'] = dataWeb2['total_sales'].astype(int)\n",
    "dataWeb2.dtypes"
   ]
  },
  {
   "attachments": {},
   "cell_type": "markdown",
   "metadata": {},
   "source": [
    "### 1.5 DF dataLiaison"
   ]
  },
  {
   "cell_type": "code",
   "execution_count": 21,
   "metadata": {},
   "outputs": [
    {
     "data": {
      "text/plain": [
       "product_id     int64\n",
       "sku           object\n",
       "dtype: object"
      ]
     },
     "execution_count": 21,
     "metadata": {},
     "output_type": "execute_result"
    }
   ],
   "source": [
    "# Analyse des types de données \n",
    "dataLiaison.dtypes"
   ]
  },
  {
   "cell_type": "code",
   "execution_count": 22,
   "metadata": {},
   "outputs": [
    {
     "name": "stdout",
     "output_type": "stream",
     "text": [
      "bon-cadeau-25-euros is a string.\n",
      "13127-1 is a string.\n",
      "14680-1 is a string.\n"
     ]
    }
   ],
   "source": [
    "# On utilise à nouveau la fonction afin de détecter les chaînes de caractères\n",
    "for value in dataLiaison['sku']:\n",
    "    if isinstance(value, str):\n",
    "        print(value, \"is a string.\")"
   ]
  },
  {
   "cell_type": "code",
   "execution_count": 23,
   "metadata": {},
   "outputs": [],
   "source": [
    "# On transforme la chaîne de caractère par un integer\n",
    "dataLiaison.loc[dataLiaison['sku'] == 'bon-cadeau-25-euros', 'sku'] = 37"
   ]
  },
  {
   "cell_type": "code",
   "execution_count": 24,
   "metadata": {},
   "outputs": [],
   "source": [
    "# On transforme la chaîne de caractère par un integer\n",
    "dataLiaison.loc[dataLiaison['sku'] == '13127-1', 'sku'] = 13128"
   ]
  },
  {
   "cell_type": "code",
   "execution_count": 25,
   "metadata": {},
   "outputs": [],
   "source": [
    "# On transforme la chaîne de caractère par un integer\n",
    "dataLiaison.loc[dataLiaison['sku'] == '14680-1', 'sku'] = 14681"
   ]
  },
  {
   "attachments": {},
   "cell_type": "markdown",
   "metadata": {},
   "source": [
    "On applique la même logique que le DF dataWeb2"
   ]
  },
  {
   "cell_type": "code",
   "execution_count": 26,
   "metadata": {},
   "outputs": [
    {
     "data": {
      "text/plain": [
       "False"
      ]
     },
     "execution_count": 26,
     "metadata": {},
     "output_type": "execute_result"
    }
   ],
   "source": [
    "# Detection des doublons\n",
    "dataLiaison.duplicated().any()"
   ]
  },
  {
   "attachments": {},
   "cell_type": "markdown",
   "metadata": {},
   "source": [
    "Il n'y a aucun doublons"
   ]
  },
  {
   "cell_type": "code",
   "execution_count": 27,
   "metadata": {},
   "outputs": [
    {
     "data": {
      "text/plain": [
       "product_id     0\n",
       "sku           91\n",
       "dtype: int64"
      ]
     },
     "execution_count": 27,
     "metadata": {},
     "output_type": "execute_result"
    }
   ],
   "source": [
    "# Detection des valeurs manquantes\n",
    "dataLiaison.isna().sum()"
   ]
  },
  {
   "attachments": {},
   "cell_type": "markdown",
   "metadata": {},
   "source": [
    "Il y a 91 valeurs manquantes pour la colonne 'sku' ce qui est normal compte tenu des commentaires de Sylvie, chargée du rapprochement des 'product_id' avec le 'sku', qui précise : \"la liste des product_id est exhaustive, mais pour les références côté Web, j’en suis moins sûre... J’ai peiné à rapprocher certaines références.\""
   ]
  },
  {
   "attachments": {},
   "cell_type": "markdown",
   "metadata": {},
   "source": [
    "## 2 Fusion des DF"
   ]
  },
  {
   "attachments": {},
   "cell_type": "markdown",
   "metadata": {},
   "source": [
    "La jointure entre les fichiers se fait en 2 étapes : \n",
    "- Une jointure interne entre le fichier ERP et le fichier de liaison \n",
    "- Une jointure à gauche entre le nouveau fichier issu de la précédente opération et le fichier Web"
   ]
  },
  {
   "cell_type": "code",
   "execution_count": 28,
   "metadata": {},
   "outputs": [
    {
     "data": {
      "text/html": [
       "<div>\n",
       "<style scoped>\n",
       "    .dataframe tbody tr th:only-of-type {\n",
       "        vertical-align: middle;\n",
       "    }\n",
       "\n",
       "    .dataframe tbody tr th {\n",
       "        vertical-align: top;\n",
       "    }\n",
       "\n",
       "    .dataframe thead th {\n",
       "        text-align: right;\n",
       "    }\n",
       "</style>\n",
       "<table border=\"1\" class=\"dataframe\">\n",
       "  <thead>\n",
       "    <tr style=\"text-align: right;\">\n",
       "      <th></th>\n",
       "      <th>product_id</th>\n",
       "      <th>price</th>\n",
       "      <th>sku</th>\n",
       "    </tr>\n",
       "  </thead>\n",
       "  <tbody>\n",
       "    <tr>\n",
       "      <th>0</th>\n",
       "      <td>4041</td>\n",
       "      <td>32.7</td>\n",
       "      <td>14975</td>\n",
       "    </tr>\n",
       "    <tr>\n",
       "      <th>1</th>\n",
       "      <td>4042</td>\n",
       "      <td>31.2</td>\n",
       "      <td>16042</td>\n",
       "    </tr>\n",
       "    <tr>\n",
       "      <th>2</th>\n",
       "      <td>4043</td>\n",
       "      <td>60.0</td>\n",
       "      <td>14980</td>\n",
       "    </tr>\n",
       "    <tr>\n",
       "      <th>3</th>\n",
       "      <td>4045</td>\n",
       "      <td>42.6</td>\n",
       "      <td>16041</td>\n",
       "    </tr>\n",
       "    <tr>\n",
       "      <th>4</th>\n",
       "      <td>4047</td>\n",
       "      <td>18.3</td>\n",
       "      <td>14977</td>\n",
       "    </tr>\n",
       "    <tr>\n",
       "      <th>...</th>\n",
       "      <td>...</td>\n",
       "      <td>...</td>\n",
       "      <td>...</td>\n",
       "    </tr>\n",
       "    <tr>\n",
       "      <th>820</th>\n",
       "      <td>6578</td>\n",
       "      <td>40.0</td>\n",
       "      <td>15647</td>\n",
       "    </tr>\n",
       "    <tr>\n",
       "      <th>821</th>\n",
       "      <td>6751</td>\n",
       "      <td>46.5</td>\n",
       "      <td>16144</td>\n",
       "    </tr>\n",
       "    <tr>\n",
       "      <th>822</th>\n",
       "      <td>6886</td>\n",
       "      <td>42.0</td>\n",
       "      <td>14897</td>\n",
       "    </tr>\n",
       "    <tr>\n",
       "      <th>823</th>\n",
       "      <td>6900</td>\n",
       "      <td>30.0</td>\n",
       "      <td>NaN</td>\n",
       "    </tr>\n",
       "    <tr>\n",
       "      <th>824</th>\n",
       "      <td>6901</td>\n",
       "      <td>20.0</td>\n",
       "      <td>NaN</td>\n",
       "    </tr>\n",
       "  </tbody>\n",
       "</table>\n",
       "<p>825 rows × 3 columns</p>\n",
       "</div>"
      ],
      "text/plain": [
       "     product_id  price    sku\n",
       "0          4041   32.7  14975\n",
       "1          4042   31.2  16042\n",
       "2          4043   60.0  14980\n",
       "3          4045   42.6  16041\n",
       "4          4047   18.3  14977\n",
       "..          ...    ...    ...\n",
       "820        6578   40.0  15647\n",
       "821        6751   46.5  16144\n",
       "822        6886   42.0  14897\n",
       "823        6900   30.0    NaN\n",
       "824        6901   20.0    NaN\n",
       "\n",
       "[825 rows x 3 columns]"
      ]
     },
     "execution_count": 28,
     "metadata": {},
     "output_type": "execute_result"
    }
   ],
   "source": [
    "# On effectue une jointure interne \n",
    "mergeErpLiaison = pd.merge(dataErp2, dataLiaison, on ='product_id')\n",
    "mergeErpLiaison "
   ]
  },
  {
   "cell_type": "code",
   "execution_count": 29,
   "metadata": {},
   "outputs": [
    {
     "data": {
      "text/html": [
       "<div>\n",
       "<style scoped>\n",
       "    .dataframe tbody tr th:only-of-type {\n",
       "        vertical-align: middle;\n",
       "    }\n",
       "\n",
       "    .dataframe tbody tr th {\n",
       "        vertical-align: top;\n",
       "    }\n",
       "\n",
       "    .dataframe thead th {\n",
       "        text-align: right;\n",
       "    }\n",
       "</style>\n",
       "<table border=\"1\" class=\"dataframe\">\n",
       "  <thead>\n",
       "    <tr style=\"text-align: right;\">\n",
       "      <th></th>\n",
       "      <th>product_id</th>\n",
       "      <th>price</th>\n",
       "      <th>sku</th>\n",
       "      <th>total_sales</th>\n",
       "      <th>post_title</th>\n",
       "      <th>post_type</th>\n",
       "    </tr>\n",
       "  </thead>\n",
       "  <tbody>\n",
       "    <tr>\n",
       "      <th>0</th>\n",
       "      <td>4041</td>\n",
       "      <td>32.7</td>\n",
       "      <td>14975</td>\n",
       "      <td>0.0</td>\n",
       "      <td>Pierre Gaillard Condrieu 2018</td>\n",
       "      <td>product</td>\n",
       "    </tr>\n",
       "    <tr>\n",
       "      <th>1</th>\n",
       "      <td>4042</td>\n",
       "      <td>31.2</td>\n",
       "      <td>16042</td>\n",
       "      <td>7.0</td>\n",
       "      <td>Pierre Gaillard Cornas 2017</td>\n",
       "      <td>product</td>\n",
       "    </tr>\n",
       "    <tr>\n",
       "      <th>2</th>\n",
       "      <td>4043</td>\n",
       "      <td>60.0</td>\n",
       "      <td>14980</td>\n",
       "      <td>3.0</td>\n",
       "      <td>Pierre Gaillard Côte Rôtie Esprit de Blonde 2017</td>\n",
       "      <td>product</td>\n",
       "    </tr>\n",
       "    <tr>\n",
       "      <th>3</th>\n",
       "      <td>4045</td>\n",
       "      <td>42.6</td>\n",
       "      <td>16041</td>\n",
       "      <td>14.0</td>\n",
       "      <td>Pierre Gaillard Côte Rôtie 2018</td>\n",
       "      <td>product</td>\n",
       "    </tr>\n",
       "    <tr>\n",
       "      <th>4</th>\n",
       "      <td>4047</td>\n",
       "      <td>18.3</td>\n",
       "      <td>14977</td>\n",
       "      <td>0.0</td>\n",
       "      <td>Pierre Gaillard Côtes-du-Rhône Blanc Les Gendr...</td>\n",
       "      <td>product</td>\n",
       "    </tr>\n",
       "    <tr>\n",
       "      <th>...</th>\n",
       "      <td>...</td>\n",
       "      <td>...</td>\n",
       "      <td>...</td>\n",
       "      <td>...</td>\n",
       "      <td>...</td>\n",
       "      <td>...</td>\n",
       "    </tr>\n",
       "    <tr>\n",
       "      <th>820</th>\n",
       "      <td>6578</td>\n",
       "      <td>40.0</td>\n",
       "      <td>15647</td>\n",
       "      <td>7.0</td>\n",
       "      <td>Saumaize-Michelin Pouilly-Fuissé Ampélopsis 2016</td>\n",
       "      <td>product</td>\n",
       "    </tr>\n",
       "    <tr>\n",
       "      <th>821</th>\n",
       "      <td>6751</td>\n",
       "      <td>46.5</td>\n",
       "      <td>16144</td>\n",
       "      <td>0.0</td>\n",
       "      <td>Château Simone Palette Blanc 2017</td>\n",
       "      <td>product</td>\n",
       "    </tr>\n",
       "    <tr>\n",
       "      <th>822</th>\n",
       "      <td>6886</td>\n",
       "      <td>42.0</td>\n",
       "      <td>14897</td>\n",
       "      <td>0.0</td>\n",
       "      <td>Gratavinum Priorat GV5 2011</td>\n",
       "      <td>product</td>\n",
       "    </tr>\n",
       "    <tr>\n",
       "      <th>823</th>\n",
       "      <td>6900</td>\n",
       "      <td>30.0</td>\n",
       "      <td>NaN</td>\n",
       "      <td>NaN</td>\n",
       "      <td>NaN</td>\n",
       "      <td>NaN</td>\n",
       "    </tr>\n",
       "    <tr>\n",
       "      <th>824</th>\n",
       "      <td>6901</td>\n",
       "      <td>20.0</td>\n",
       "      <td>NaN</td>\n",
       "      <td>NaN</td>\n",
       "      <td>NaN</td>\n",
       "      <td>NaN</td>\n",
       "    </tr>\n",
       "  </tbody>\n",
       "</table>\n",
       "<p>825 rows × 6 columns</p>\n",
       "</div>"
      ],
      "text/plain": [
       "     product_id  price    sku  total_sales  \\\n",
       "0          4041   32.7  14975          0.0   \n",
       "1          4042   31.2  16042          7.0   \n",
       "2          4043   60.0  14980          3.0   \n",
       "3          4045   42.6  16041         14.0   \n",
       "4          4047   18.3  14977          0.0   \n",
       "..          ...    ...    ...          ...   \n",
       "820        6578   40.0  15647          7.0   \n",
       "821        6751   46.5  16144          0.0   \n",
       "822        6886   42.0  14897          0.0   \n",
       "823        6900   30.0    NaN          NaN   \n",
       "824        6901   20.0    NaN          NaN   \n",
       "\n",
       "                                            post_title post_type  \n",
       "0                        Pierre Gaillard Condrieu 2018   product  \n",
       "1                          Pierre Gaillard Cornas 2017   product  \n",
       "2     Pierre Gaillard Côte Rôtie Esprit de Blonde 2017   product  \n",
       "3                      Pierre Gaillard Côte Rôtie 2018   product  \n",
       "4    Pierre Gaillard Côtes-du-Rhône Blanc Les Gendr...   product  \n",
       "..                                                 ...       ...  \n",
       "820   Saumaize-Michelin Pouilly-Fuissé Ampélopsis 2016   product  \n",
       "821                  Château Simone Palette Blanc 2017   product  \n",
       "822                        Gratavinum Priorat GV5 2011   product  \n",
       "823                                                NaN       NaN  \n",
       "824                                                NaN       NaN  \n",
       "\n",
       "[825 rows x 6 columns]"
      ]
     },
     "execution_count": 29,
     "metadata": {},
     "output_type": "execute_result"
    }
   ],
   "source": [
    "dataVentes = pd.merge(mergeErpLiaison, dataWeb2, on ='sku', how='left')\n",
    "dataVentes"
   ]
  },
  {
   "attachments": {},
   "cell_type": "markdown",
   "metadata": {},
   "source": [
    "## 3 Analyse des données de vente "
   ]
  },
  {
   "attachments": {},
   "cell_type": "markdown",
   "metadata": {},
   "source": [
    "### 3.1 Chiffre d'affaire"
   ]
  },
  {
   "cell_type": "code",
   "execution_count": 51,
   "metadata": {},
   "outputs": [
    {
     "data": {
      "text/html": [
       "<div>\n",
       "<style scoped>\n",
       "    .dataframe tbody tr th:only-of-type {\n",
       "        vertical-align: middle;\n",
       "    }\n",
       "\n",
       "    .dataframe tbody tr th {\n",
       "        vertical-align: top;\n",
       "    }\n",
       "\n",
       "    .dataframe thead th {\n",
       "        text-align: right;\n",
       "    }\n",
       "</style>\n",
       "<table border=\"1\" class=\"dataframe\">\n",
       "  <thead>\n",
       "    <tr style=\"text-align: right;\">\n",
       "      <th></th>\n",
       "      <th>product_id</th>\n",
       "      <th>price</th>\n",
       "      <th>sku</th>\n",
       "      <th>total_sales</th>\n",
       "      <th>post_title</th>\n",
       "      <th>post_type</th>\n",
       "      <th>caProduit</th>\n",
       "    </tr>\n",
       "  </thead>\n",
       "  <tbody>\n",
       "    <tr>\n",
       "      <th>688</th>\n",
       "      <td>4334</td>\n",
       "      <td>49.0</td>\n",
       "      <td>7818</td>\n",
       "      <td>96.0</td>\n",
       "      <td>Champagne Gosset Grand Blanc de Blancs</td>\n",
       "      <td>product</td>\n",
       "      <td>4704.0</td>\n",
       "    </tr>\n",
       "    <tr>\n",
       "      <th>53</th>\n",
       "      <td>4144</td>\n",
       "      <td>49.0</td>\n",
       "      <td>1662</td>\n",
       "      <td>87.0</td>\n",
       "      <td>Champagne Gosset Grand Rosé</td>\n",
       "      <td>product</td>\n",
       "      <td>4263.0</td>\n",
       "    </tr>\n",
       "    <tr>\n",
       "      <th>169</th>\n",
       "      <td>4402</td>\n",
       "      <td>176.0</td>\n",
       "      <td>3510</td>\n",
       "      <td>13.0</td>\n",
       "      <td>Cognac Frapin VIP XO</td>\n",
       "      <td>product</td>\n",
       "      <td>2288.0</td>\n",
       "    </tr>\n",
       "    <tr>\n",
       "      <th>52</th>\n",
       "      <td>4142</td>\n",
       "      <td>53.0</td>\n",
       "      <td>11641</td>\n",
       "      <td>30.0</td>\n",
       "      <td>Champagne Gosset Grand Millésime 2006</td>\n",
       "      <td>product</td>\n",
       "      <td>1590.0</td>\n",
       "    </tr>\n",
       "    <tr>\n",
       "      <th>51</th>\n",
       "      <td>4141</td>\n",
       "      <td>39.0</td>\n",
       "      <td>304</td>\n",
       "      <td>40.0</td>\n",
       "      <td>Champagne Gosset Grande Réserve</td>\n",
       "      <td>product</td>\n",
       "      <td>1560.0</td>\n",
       "    </tr>\n",
       "    <tr>\n",
       "      <th>158</th>\n",
       "      <td>4355</td>\n",
       "      <td>126.5</td>\n",
       "      <td>12589</td>\n",
       "      <td>11.0</td>\n",
       "      <td>Champagne Egly-Ouriet Grand Cru Blanc de Noirs</td>\n",
       "      <td>product</td>\n",
       "      <td>1391.5</td>\n",
       "    </tr>\n",
       "    <tr>\n",
       "      <th>689</th>\n",
       "      <td>4352</td>\n",
       "      <td>225.0</td>\n",
       "      <td>15940</td>\n",
       "      <td>5.0</td>\n",
       "      <td>Champagne Egly-Ouriet Grand Cru Millésimé 2008</td>\n",
       "      <td>product</td>\n",
       "      <td>1125.0</td>\n",
       "    </tr>\n",
       "    <tr>\n",
       "      <th>660</th>\n",
       "      <td>4153</td>\n",
       "      <td>29.0</td>\n",
       "      <td>16237</td>\n",
       "      <td>36.0</td>\n",
       "      <td>Elian Daros Côtes du Marmandais Clos Baquey 2015</td>\n",
       "      <td>product</td>\n",
       "      <td>1044.0</td>\n",
       "    </tr>\n",
       "    <tr>\n",
       "      <th>530</th>\n",
       "      <td>6206</td>\n",
       "      <td>25.2</td>\n",
       "      <td>16580</td>\n",
       "      <td>41.0</td>\n",
       "      <td>Domaine Giudicelli Patrimonio Blanc 2019</td>\n",
       "      <td>product</td>\n",
       "      <td>1033.2</td>\n",
       "    </tr>\n",
       "    <tr>\n",
       "      <th>20</th>\n",
       "      <td>4068</td>\n",
       "      <td>16.6</td>\n",
       "      <td>16416</td>\n",
       "      <td>62.0</td>\n",
       "      <td>Gilles Robin Crozes-Hermitage Rouge Papillon 2019</td>\n",
       "      <td>product</td>\n",
       "      <td>1029.2</td>\n",
       "    </tr>\n",
       "  </tbody>\n",
       "</table>\n",
       "</div>"
      ],
      "text/plain": [
       "     product_id  price    sku  total_sales  \\\n",
       "688        4334   49.0   7818         96.0   \n",
       "53         4144   49.0   1662         87.0   \n",
       "169        4402  176.0   3510         13.0   \n",
       "52         4142   53.0  11641         30.0   \n",
       "51         4141   39.0    304         40.0   \n",
       "158        4355  126.5  12589         11.0   \n",
       "689        4352  225.0  15940          5.0   \n",
       "660        4153   29.0  16237         36.0   \n",
       "530        6206   25.2  16580         41.0   \n",
       "20         4068   16.6  16416         62.0   \n",
       "\n",
       "                                            post_title post_type  caProduit  \n",
       "688             Champagne Gosset Grand Blanc de Blancs   product     4704.0  \n",
       "53                         Champagne Gosset Grand Rosé   product     4263.0  \n",
       "169                               Cognac Frapin VIP XO   product     2288.0  \n",
       "52               Champagne Gosset Grand Millésime 2006   product     1590.0  \n",
       "51                     Champagne Gosset Grande Réserve   product     1560.0  \n",
       "158     Champagne Egly-Ouriet Grand Cru Blanc de Noirs   product     1391.5  \n",
       "689     Champagne Egly-Ouriet Grand Cru Millésimé 2008   product     1125.0  \n",
       "660   Elian Daros Côtes du Marmandais Clos Baquey 2015   product     1044.0  \n",
       "530           Domaine Giudicelli Patrimonio Blanc 2019   product     1033.2  \n",
       "20   Gilles Robin Crozes-Hermitage Rouge Papillon 2019   product     1029.2  "
      ]
     },
     "execution_count": 51,
     "metadata": {},
     "output_type": "execute_result"
    }
   ],
   "source": [
    "# Calcul du chiffre d'affaires par produit \n",
    "\n",
    "dataVentes['caProduit'] = dataVentes['price']*dataVentes['total_sales']\n",
    "dataVentes.sort_values('caProduit', ascending=False).head(10)\n"
   ]
  },
  {
   "cell_type": "code",
   "execution_count": 31,
   "metadata": {},
   "outputs": [
    {
     "data": {
      "text/plain": [
       "70568.6"
      ]
     },
     "execution_count": 31,
     "metadata": {},
     "output_type": "execute_result"
    }
   ],
   "source": [
    "# Calcul du chiffre d'affaires global pour les produits vendus en ligne\n",
    "caTotal = dataVentes['caProduit'].sum()\n",
    "caTotal"
   ]
  },
  {
   "attachments": {},
   "cell_type": "markdown",
   "metadata": {},
   "source": [
    "Le chiffre d'affaires total est de 70 568€"
   ]
  },
  {
   "attachments": {},
   "cell_type": "markdown",
   "metadata": {},
   "source": [
    "### 3.2 Analyse de la variable prix"
   ]
  },
  {
   "attachments": {},
   "cell_type": "markdown",
   "metadata": {},
   "source": [
    "#### 3.2.1 Distribution empirique de la variable"
   ]
  },
  {
   "cell_type": "code",
   "execution_count": 32,
   "metadata": {},
   "outputs": [
    {
     "data": {
      "image/png": "[encoded data removed]",
      "text/plain": [
       "<Figure size 1000x700 with 1 Axes>"
      ]
     },
     "metadata": {},
     "output_type": "display_data"
    }
   ],
   "source": [
    "# On visualise la distribution empirique de la variable à travers un histogramme\n",
    "plt.figure(figsize=(10,7))\n",
    "dataVentes['price'].hist(density=True)\n",
    "plt.title(\"Distribution du prix des bouteilles\", fontsize=15, fontweight='bold')\n",
    "plt.xlabel(\"Prix\")\n",
    "plt.ylabel(\"Fréquence\")\n",
    "plt.show()"
   ]
  },
  {
   "cell_type": "code",
   "execution_count": 33,
   "metadata": {},
   "outputs": [],
   "source": [
    "# On détermine les quartiles ainsi que l'écart interquartile\n",
    "q1 = np.percentile(dataVentes[\"price\"], 25)\n",
    "q2 = np.percentile(dataVentes[\"price\"], 50)\n",
    "q3 = np.percentile(dataVentes[\"price\"], 75)\n",
    "iqr = q3-q1"
   ]
  },
  {
   "cell_type": "code",
   "execution_count": 34,
   "metadata": {},
   "outputs": [
    {
     "name": "stdout",
     "output_type": "stream",
     "text": [
      "Le premier quartile est de 14.60 €, la médiane est de 24.40 €, et le troisième quartile est de 42.00 €. L'intervalle interquatile est 27.40 €.\n"
     ]
    }
   ],
   "source": [
    "print(\"Le premier quartile est de %.2f €, la médiane est de %.2f €, et le troisième quartile est de %.2f €. L'intervalle interquatile est %.2f €.\" % (q1, q2, q3, iqr))\n"
   ]
  },
  {
   "attachments": {},
   "cell_type": "markdown",
   "metadata": {},
   "source": [
    "#### 3.2.2 Analyse des outliers"
   ]
  },
  {
   "cell_type": "code",
   "execution_count": 35,
   "metadata": {},
   "outputs": [
    {
     "data": {
      "image/png": "[encoded data removed]",
      "text/plain": [
       "<Figure size 1500x700 with 1 Axes>"
      ]
     },
     "metadata": {},
     "output_type": "display_data"
    }
   ],
   "source": [
    "# On crée un boxplot pour visualiser les outliers\n",
    "plt.figure(figsize=(15,7))\n",
    "flierprops = dict(marker='o', markerfacecolor='r', markeredgecolor='g', markersize=6)\n",
    "plt.boxplot(dataVentes['price'], vert=False, labels=['prix'], showmeans=True, flierprops=flierprops)\n",
    "plt.title(\"Distribution du prix des bouteilles (€)\", size=15, fontweight='bold')\n",
    "plt.show()"
   ]
  },
  {
   "cell_type": "code",
   "execution_count": 36,
   "metadata": {},
   "outputs": [
    {
     "name": "stdout",
     "output_type": "stream",
     "text": [
      "83.1\n"
     ]
    }
   ],
   "source": [
    "limitOutlier = q3 + 1.5*iqr \n",
    "print(limitOutlier)"
   ]
  },
  {
   "attachments": {},
   "cell_type": "markdown",
   "metadata": {},
   "source": [
    "Ainsi, toute valeur au delà de 83,10€ est une valeur atypique. \n",
    "Voici la liste des bouteilles concernés : "
   ]
  },
  {
   "cell_type": "code",
   "execution_count": 37,
   "metadata": {},
   "outputs": [
    {
     "data": {
      "text/html": [
       "<div>\n",
       "<style scoped>\n",
       "    .dataframe tbody tr th:only-of-type {\n",
       "        vertical-align: middle;\n",
       "    }\n",
       "\n",
       "    .dataframe tbody tr th {\n",
       "        vertical-align: top;\n",
       "    }\n",
       "\n",
       "    .dataframe thead th {\n",
       "        text-align: right;\n",
       "    }\n",
       "</style>\n",
       "<table border=\"1\" class=\"dataframe\">\n",
       "  <thead>\n",
       "    <tr style=\"text-align: right;\">\n",
       "      <th></th>\n",
       "      <th>product_id</th>\n",
       "      <th>post_title</th>\n",
       "      <th>price</th>\n",
       "      <th>total_sales</th>\n",
       "    </tr>\n",
       "  </thead>\n",
       "  <tbody>\n",
       "    <tr>\n",
       "      <th>689</th>\n",
       "      <td>4352</td>\n",
       "      <td>Champagne Egly-Ouriet Grand Cru Millésimé 2008</td>\n",
       "      <td>225.0</td>\n",
       "      <td>5.0</td>\n",
       "    </tr>\n",
       "    <tr>\n",
       "      <th>351</th>\n",
       "      <td>5001</td>\n",
       "      <td>David Duband Charmes-Chambertin Grand Cru 2014</td>\n",
       "      <td>217.5</td>\n",
       "      <td>0.0</td>\n",
       "    </tr>\n",
       "    <tr>\n",
       "      <th>481</th>\n",
       "      <td>5892</td>\n",
       "      <td>Coteaux Champenois Egly-Ouriet Ambonnay Rouge ...</td>\n",
       "      <td>191.3</td>\n",
       "      <td>3.0</td>\n",
       "    </tr>\n",
       "    <tr>\n",
       "      <th>169</th>\n",
       "      <td>4402</td>\n",
       "      <td>Cognac Frapin VIP XO</td>\n",
       "      <td>176.0</td>\n",
       "      <td>13.0</td>\n",
       "    </tr>\n",
       "    <tr>\n",
       "      <th>453</th>\n",
       "      <td>5767</td>\n",
       "      <td>Camille Giroud Clos de Vougeot 2016</td>\n",
       "      <td>175.0</td>\n",
       "      <td>0.0</td>\n",
       "    </tr>\n",
       "    <tr>\n",
       "      <th>172</th>\n",
       "      <td>4406</td>\n",
       "      <td>Cognac Frapin Château de Fontpinot 1989 20 Ans...</td>\n",
       "      <td>157.0</td>\n",
       "      <td>0.0</td>\n",
       "    </tr>\n",
       "    <tr>\n",
       "      <th>698</th>\n",
       "      <td>4594</td>\n",
       "      <td>NaN</td>\n",
       "      <td>144.0</td>\n",
       "      <td>NaN</td>\n",
       "    </tr>\n",
       "    <tr>\n",
       "      <th>319</th>\n",
       "      <td>4904</td>\n",
       "      <td>Domaine Des Croix Corton Charlemagne Grand Cru...</td>\n",
       "      <td>137.0</td>\n",
       "      <td>5.0</td>\n",
       "    </tr>\n",
       "    <tr>\n",
       "      <th>522</th>\n",
       "      <td>6126</td>\n",
       "      <td>Champagne Gosset Célébris Vintage 2007</td>\n",
       "      <td>135.0</td>\n",
       "      <td>2.0</td>\n",
       "    </tr>\n",
       "    <tr>\n",
       "      <th>158</th>\n",
       "      <td>4355</td>\n",
       "      <td>Champagne Egly-Ouriet Grand Cru Blanc de Noirs</td>\n",
       "      <td>126.5</td>\n",
       "      <td>11.0</td>\n",
       "    </tr>\n",
       "    <tr>\n",
       "      <th>418</th>\n",
       "      <td>5612</td>\n",
       "      <td>Domaine Weinbach Gewurztraminer Grand Cru Furs...</td>\n",
       "      <td>124.8</td>\n",
       "      <td>0.0</td>\n",
       "    </tr>\n",
       "    <tr>\n",
       "      <th>493</th>\n",
       "      <td>5917</td>\n",
       "      <td>Wemyss Malts Single Cask Scotch Whisky Choc 'n...</td>\n",
       "      <td>122.0</td>\n",
       "      <td>0.0</td>\n",
       "    </tr>\n",
       "    <tr>\n",
       "      <th>533</th>\n",
       "      <td>6213</td>\n",
       "      <td>Domaine des Comtes Lafon Volnay 1er Cru Santen...</td>\n",
       "      <td>121.0</td>\n",
       "      <td>0.0</td>\n",
       "    </tr>\n",
       "    <tr>\n",
       "      <th>536</th>\n",
       "      <td>6216</td>\n",
       "      <td>Domaine des Comtes Lafon Volnay 1er Cru Champa...</td>\n",
       "      <td>121.0</td>\n",
       "      <td>0.0</td>\n",
       "    </tr>\n",
       "    <tr>\n",
       "      <th>527</th>\n",
       "      <td>6202</td>\n",
       "      <td>Domaine Clerget Echezeaux Grand Cru En Orveaux...</td>\n",
       "      <td>116.4</td>\n",
       "      <td>0.0</td>\n",
       "    </tr>\n",
       "    <tr>\n",
       "      <th>532</th>\n",
       "      <td>6212</td>\n",
       "      <td>Domaine des Comtes Lafon Volnay 1er Cru Santen...</td>\n",
       "      <td>115.0</td>\n",
       "      <td>2.0</td>\n",
       "    </tr>\n",
       "    <tr>\n",
       "      <th>535</th>\n",
       "      <td>6215</td>\n",
       "      <td>Domaine des Comtes Lafon Volnay 1er Cru Champa...</td>\n",
       "      <td>115.0</td>\n",
       "      <td>0.0</td>\n",
       "    </tr>\n",
       "    <tr>\n",
       "      <th>494</th>\n",
       "      <td>5918</td>\n",
       "      <td>Wemyss Malts Single Cask Scotch Whisky Chai Ca...</td>\n",
       "      <td>114.0</td>\n",
       "      <td>0.0</td>\n",
       "    </tr>\n",
       "    <tr>\n",
       "      <th>754</th>\n",
       "      <td>5025</td>\n",
       "      <td>Champagne Agrapart &amp;amp; Fils L'Avizoise Extra...</td>\n",
       "      <td>112.0</td>\n",
       "      <td>0.0</td>\n",
       "    </tr>\n",
       "    <tr>\n",
       "      <th>181</th>\n",
       "      <td>4582</td>\n",
       "      <td>Château de Meursault Puligny-Montrachet 1er Cr...</td>\n",
       "      <td>109.6</td>\n",
       "      <td>0.0</td>\n",
       "    </tr>\n",
       "    <tr>\n",
       "      <th>170</th>\n",
       "      <td>4404</td>\n",
       "      <td>Cognac Frapin Château de Fontpinot XO</td>\n",
       "      <td>108.5</td>\n",
       "      <td>2.0</td>\n",
       "    </tr>\n",
       "    <tr>\n",
       "      <th>526</th>\n",
       "      <td>6201</td>\n",
       "      <td>David Duband Chambolle-Musigny 1er Cru Les Sen...</td>\n",
       "      <td>105.6</td>\n",
       "      <td>0.0</td>\n",
       "    </tr>\n",
       "    <tr>\n",
       "      <th>356</th>\n",
       "      <td>5008</td>\n",
       "      <td>Domaine des Comtes Lafon Volnay 1er Cru Santen...</td>\n",
       "      <td>105.0</td>\n",
       "      <td>0.0</td>\n",
       "    </tr>\n",
       "    <tr>\n",
       "      <th>355</th>\n",
       "      <td>5007</td>\n",
       "      <td>Domaine des Comtes Lafon Volnay 1er Cru Santen...</td>\n",
       "      <td>105.0</td>\n",
       "      <td>0.0</td>\n",
       "    </tr>\n",
       "    <tr>\n",
       "      <th>173</th>\n",
       "      <td>4407</td>\n",
       "      <td>Cognac Frapin Cigar Blend</td>\n",
       "      <td>104.0</td>\n",
       "      <td>1.0</td>\n",
       "    </tr>\n",
       "    <tr>\n",
       "      <th>318</th>\n",
       "      <td>4903</td>\n",
       "      <td>Domaine Des Croix Corton Grand Cru Les Grèves ...</td>\n",
       "      <td>102.3</td>\n",
       "      <td>0.0</td>\n",
       "    </tr>\n",
       "    <tr>\n",
       "      <th>48</th>\n",
       "      <td>4115</td>\n",
       "      <td>Zind-Humbrecht Riesling Grand Cru Rangen De Th...</td>\n",
       "      <td>100.0</td>\n",
       "      <td>0.0</td>\n",
       "    </tr>\n",
       "    <tr>\n",
       "      <th>534</th>\n",
       "      <td>6214</td>\n",
       "      <td>Domaine des Comtes Lafon Volnay 1er Cru Champa...</td>\n",
       "      <td>99.0</td>\n",
       "      <td>0.0</td>\n",
       "    </tr>\n",
       "    <tr>\n",
       "      <th>492</th>\n",
       "      <td>5916</td>\n",
       "      <td>Wemyss Malts Single Cask Scotch Whisky Chocola...</td>\n",
       "      <td>93.0</td>\n",
       "      <td>0.0</td>\n",
       "    </tr>\n",
       "    <tr>\n",
       "      <th>545</th>\n",
       "      <td>6324</td>\n",
       "      <td>NaN</td>\n",
       "      <td>92.0</td>\n",
       "      <td>NaN</td>\n",
       "    </tr>\n",
       "    <tr>\n",
       "      <th>774</th>\n",
       "      <td>5565</td>\n",
       "      <td>Tempier Bandol Cabassaou 2017</td>\n",
       "      <td>92.0</td>\n",
       "      <td>0.0</td>\n",
       "    </tr>\n",
       "    <tr>\n",
       "      <th>49</th>\n",
       "      <td>4132</td>\n",
       "      <td>Zind-Humbrecht Pinot Gris Grand Cru Rangen De ...</td>\n",
       "      <td>88.4</td>\n",
       "      <td>0.0</td>\n",
       "    </tr>\n",
       "    <tr>\n",
       "      <th>359</th>\n",
       "      <td>5026</td>\n",
       "      <td>Champagne Agrapart &amp;amp; Fils Minéral Extra Br...</td>\n",
       "      <td>86.8</td>\n",
       "      <td>0.0</td>\n",
       "    </tr>\n",
       "    <tr>\n",
       "      <th>647</th>\n",
       "      <td>4055</td>\n",
       "      <td>NaN</td>\n",
       "      <td>86.1</td>\n",
       "      <td>NaN</td>\n",
       "    </tr>\n",
       "    <tr>\n",
       "      <th>692</th>\n",
       "      <td>4359</td>\n",
       "      <td>Champagne Larmandier-Bernier Grand Cru Les Che...</td>\n",
       "      <td>85.6</td>\n",
       "      <td>1.0</td>\n",
       "    </tr>\n",
       "    <tr>\n",
       "      <th>758</th>\n",
       "      <td>5070</td>\n",
       "      <td>NaN</td>\n",
       "      <td>84.7</td>\n",
       "      <td>NaN</td>\n",
       "    </tr>\n",
       "    <tr>\n",
       "      <th>413</th>\n",
       "      <td>5580</td>\n",
       "      <td>Lucien Boillot Puligny-Montrachet 1er Cru Les ...</td>\n",
       "      <td>83.7</td>\n",
       "      <td>0.0</td>\n",
       "    </tr>\n",
       "  </tbody>\n",
       "</table>\n",
       "</div>"
      ],
      "text/plain": [
       "     product_id                                         post_title  price  \\\n",
       "689        4352     Champagne Egly-Ouriet Grand Cru Millésimé 2008  225.0   \n",
       "351        5001     David Duband Charmes-Chambertin Grand Cru 2014  217.5   \n",
       "481        5892  Coteaux Champenois Egly-Ouriet Ambonnay Rouge ...  191.3   \n",
       "169        4402                               Cognac Frapin VIP XO  176.0   \n",
       "453        5767                Camille Giroud Clos de Vougeot 2016  175.0   \n",
       "172        4406  Cognac Frapin Château de Fontpinot 1989 20 Ans...  157.0   \n",
       "698        4594                                                NaN  144.0   \n",
       "319        4904  Domaine Des Croix Corton Charlemagne Grand Cru...  137.0   \n",
       "522        6126             Champagne Gosset Célébris Vintage 2007  135.0   \n",
       "158        4355     Champagne Egly-Ouriet Grand Cru Blanc de Noirs  126.5   \n",
       "418        5612  Domaine Weinbach Gewurztraminer Grand Cru Furs...  124.8   \n",
       "493        5917  Wemyss Malts Single Cask Scotch Whisky Choc 'n...  122.0   \n",
       "533        6213  Domaine des Comtes Lafon Volnay 1er Cru Santen...  121.0   \n",
       "536        6216  Domaine des Comtes Lafon Volnay 1er Cru Champa...  121.0   \n",
       "527        6202  Domaine Clerget Echezeaux Grand Cru En Orveaux...  116.4   \n",
       "532        6212  Domaine des Comtes Lafon Volnay 1er Cru Santen...  115.0   \n",
       "535        6215  Domaine des Comtes Lafon Volnay 1er Cru Champa...  115.0   \n",
       "494        5918  Wemyss Malts Single Cask Scotch Whisky Chai Ca...  114.0   \n",
       "754        5025  Champagne Agrapart &amp; Fils L'Avizoise Extra...  112.0   \n",
       "181        4582  Château de Meursault Puligny-Montrachet 1er Cr...  109.6   \n",
       "170        4404              Cognac Frapin Château de Fontpinot XO  108.5   \n",
       "526        6201  David Duband Chambolle-Musigny 1er Cru Les Sen...  105.6   \n",
       "356        5008  Domaine des Comtes Lafon Volnay 1er Cru Santen...  105.0   \n",
       "355        5007  Domaine des Comtes Lafon Volnay 1er Cru Santen...  105.0   \n",
       "173        4407                          Cognac Frapin Cigar Blend  104.0   \n",
       "318        4903  Domaine Des Croix Corton Grand Cru Les Grèves ...  102.3   \n",
       "48         4115  Zind-Humbrecht Riesling Grand Cru Rangen De Th...  100.0   \n",
       "534        6214  Domaine des Comtes Lafon Volnay 1er Cru Champa...   99.0   \n",
       "492        5916  Wemyss Malts Single Cask Scotch Whisky Chocola...   93.0   \n",
       "545        6324                                                NaN   92.0   \n",
       "774        5565                      Tempier Bandol Cabassaou 2017   92.0   \n",
       "49         4132  Zind-Humbrecht Pinot Gris Grand Cru Rangen De ...   88.4   \n",
       "359        5026  Champagne Agrapart &amp; Fils Minéral Extra Br...   86.8   \n",
       "647        4055                                                NaN   86.1   \n",
       "692        4359  Champagne Larmandier-Bernier Grand Cru Les Che...   85.6   \n",
       "758        5070                                                NaN   84.7   \n",
       "413        5580  Lucien Boillot Puligny-Montrachet 1er Cru Les ...   83.7   \n",
       "\n",
       "     total_sales  \n",
       "689          5.0  \n",
       "351          0.0  \n",
       "481          3.0  \n",
       "169         13.0  \n",
       "453          0.0  \n",
       "172          0.0  \n",
       "698          NaN  \n",
       "319          5.0  \n",
       "522          2.0  \n",
       "158         11.0  \n",
       "418          0.0  \n",
       "493          0.0  \n",
       "533          0.0  \n",
       "536          0.0  \n",
       "527          0.0  \n",
       "532          2.0  \n",
       "535          0.0  \n",
       "494          0.0  \n",
       "754          0.0  \n",
       "181          0.0  \n",
       "170          2.0  \n",
       "526          0.0  \n",
       "356          0.0  \n",
       "355          0.0  \n",
       "173          1.0  \n",
       "318          0.0  \n",
       "48           0.0  \n",
       "534          0.0  \n",
       "492          0.0  \n",
       "545          NaN  \n",
       "774          0.0  \n",
       "49           0.0  \n",
       "359          0.0  \n",
       "647          NaN  \n",
       "692          1.0  \n",
       "758          NaN  \n",
       "413          0.0  "
      ]
     },
     "execution_count": 37,
     "metadata": {},
     "output_type": "execute_result"
    }
   ],
   "source": [
    "# 1ere méthode\n",
    "\n",
    "dataVentes[dataVentes[\"price\"]> limitOutlier][[ \"product_id\",\"post_title\", \"price\", \"total_sales\"]].sort_values(by=\"price\", ascending=False)\n"
   ]
  },
  {
   "cell_type": "code",
   "execution_count": 38,
   "metadata": {},
   "outputs": [
    {
     "name": "stdout",
     "output_type": "stream",
     "text": [
      "                                            post_title  product_id  \\\n",
      "647                                                NaN        4055   \n",
      "359  Champagne Agrapart &amp; Fils Minéral Extra Br...        5026   \n",
      "49   Zind-Humbrecht Pinot Gris Grand Cru Rangen De ...        4132   \n",
      "545                                                NaN        6324   \n",
      "774                      Tempier Bandol Cabassaou 2017        5565   \n",
      "492  Wemyss Malts Single Cask Scotch Whisky Chocola...        5916   \n",
      "534  Domaine des Comtes Lafon Volnay 1er Cru Champa...        6214   \n",
      "48   Zind-Humbrecht Riesling Grand Cru Rangen De Th...        4115   \n",
      "318  Domaine Des Croix Corton Grand Cru Les Grèves ...        4903   \n",
      "173                          Cognac Frapin Cigar Blend        4407   \n",
      "356  Domaine des Comtes Lafon Volnay 1er Cru Santen...        5008   \n",
      "355  Domaine des Comtes Lafon Volnay 1er Cru Santen...        5007   \n",
      "526  David Duband Chambolle-Musigny 1er Cru Les Sen...        6201   \n",
      "170              Cognac Frapin Château de Fontpinot XO        4404   \n",
      "181  Château de Meursault Puligny-Montrachet 1er Cr...        4582   \n",
      "754  Champagne Agrapart &amp; Fils L'Avizoise Extra...        5025   \n",
      "494  Wemyss Malts Single Cask Scotch Whisky Chai Ca...        5918   \n",
      "532  Domaine des Comtes Lafon Volnay 1er Cru Santen...        6212   \n",
      "535  Domaine des Comtes Lafon Volnay 1er Cru Champa...        6215   \n",
      "527  Domaine Clerget Echezeaux Grand Cru En Orveaux...        6202   \n",
      "533  Domaine des Comtes Lafon Volnay 1er Cru Santen...        6213   \n",
      "536  Domaine des Comtes Lafon Volnay 1er Cru Champa...        6216   \n",
      "493  Wemyss Malts Single Cask Scotch Whisky Choc 'n...        5917   \n",
      "418  Domaine Weinbach Gewurztraminer Grand Cru Furs...        5612   \n",
      "158     Champagne Egly-Ouriet Grand Cru Blanc de Noirs        4355   \n",
      "522             Champagne Gosset Célébris Vintage 2007        6126   \n",
      "319  Domaine Des Croix Corton Charlemagne Grand Cru...        4904   \n",
      "698                                                NaN        4594   \n",
      "172  Cognac Frapin Château de Fontpinot 1989 20 Ans...        4406   \n",
      "453                Camille Giroud Clos de Vougeot 2016        5767   \n",
      "169                               Cognac Frapin VIP XO        4402   \n",
      "481  Coteaux Champenois Egly-Ouriet Ambonnay Rouge ...        5892   \n",
      "351     David Duband Charmes-Chambertin Grand Cru 2014        5001   \n",
      "689     Champagne Egly-Ouriet Grand Cru Millésimé 2008        4352   \n",
      "\n",
      "     total_sales  price   zscores  \n",
      "647          NaN   86.1  2.004674  \n",
      "359          0.0   86.8  2.030813  \n",
      "49           0.0   88.4  2.090560  \n",
      "545          NaN   92.0  2.224990  \n",
      "774          0.0   92.0  2.224990  \n",
      "492          0.0   93.0  2.262332  \n",
      "534          0.0   99.0  2.486383  \n",
      "48           0.0  100.0  2.523725  \n",
      "318          0.0  102.3  2.609612  \n",
      "173          1.0  104.0  2.673093  \n",
      "356          0.0  105.0  2.710435  \n",
      "355          0.0  105.0  2.710435  \n",
      "526          0.0  105.6  2.732840  \n",
      "170          2.0  108.5  2.841131  \n",
      "181          0.0  109.6  2.882207  \n",
      "754          0.0  112.0  2.971827  \n",
      "494          0.0  114.0  3.046511  \n",
      "532          2.0  115.0  3.083853  \n",
      "535          0.0  115.0  3.083853  \n",
      "527          0.0  116.4  3.136132  \n",
      "533          0.0  121.0  3.307904  \n",
      "536          0.0  121.0  3.307904  \n",
      "493          0.0  122.0  3.345246  \n",
      "418          0.0  124.8  3.449803  \n",
      "158         11.0  126.5  3.513284  \n",
      "522          2.0  135.0  3.830690  \n",
      "319          5.0  137.0  3.905374  \n",
      "698          NaN  144.0  4.166767  \n",
      "172          0.0  157.0  4.652211  \n",
      "453          0.0  175.0  5.324364  \n",
      "169         13.0  176.0  5.361706  \n",
      "481          3.0  191.3  5.933036  \n",
      "351          0.0  217.5  6.911393  \n",
      "689          5.0  225.0  7.191457  \n"
     ]
    },
    {
     "name": "stderr",
     "output_type": "stream",
     "text": [
      "C:\\Users\\kamel\\AppData\\Local\\Temp\\ipykernel_21832\\2727795776.py:4: SettingWithCopyWarning: \n",
      "A value is trying to be set on a copy of a slice from a DataFrame\n",
      "\n",
      "See the caveats in the documentation: https://pandas.pydata.org/pandas-docs/stable/user_guide/indexing.html#returning-a-view-versus-a-copy\n",
      "  zScore.sort_values(by=\"price\", inplace = True)\n",
      "C:\\Users\\kamel\\AppData\\Local\\Temp\\ipykernel_21832\\2727795776.py:5: SettingWithCopyWarning: \n",
      "A value is trying to be set on a copy of a slice from a DataFrame.\n",
      "Try using .loc[row_indexer,col_indexer] = value instead\n",
      "\n",
      "See the caveats in the documentation: https://pandas.pydata.org/pandas-docs/stable/user_guide/indexing.html#returning-a-view-versus-a-copy\n",
      "  zScore[\"zscores\"] = stats.zscore(zScore[\"price\"])\n"
     ]
    }
   ],
   "source": [
    "# 2eme méthode \n",
    "\n",
    "zScore=dataVentes[[\"post_title\",\"product_id\",\"total_sales\",\"price\"]]\n",
    "zScore.sort_values(by=\"price\", inplace = True)\n",
    "zScore[\"zscores\"] = stats.zscore(zScore[\"price\"])\n",
    "mask = (zScore[\"zscores\"] > 2)\n",
    "print(zScore[mask])"
   ]
  },
  {
   "cell_type": "code",
   "execution_count": 39,
   "metadata": {},
   "outputs": [
    {
     "data": {
      "text/plain": [
       "count    825.000000\n",
       "mean      32.415636\n",
       "std       26.795849\n",
       "min        5.200000\n",
       "25%       14.600000\n",
       "50%       24.400000\n",
       "75%       42.000000\n",
       "max      225.000000\n",
       "Name: price, dtype: float64"
      ]
     },
     "execution_count": 39,
     "metadata": {},
     "output_type": "execute_result"
    }
   ],
   "source": [
    "dataVentes['price'].describe()"
   ]
  },
  {
   "cell_type": "code",
   "execution_count": 40,
   "metadata": {},
   "outputs": [
    {
     "data": {
      "text/plain": [
       "120.9945945945946"
      ]
     },
     "execution_count": 40,
     "metadata": {},
     "output_type": "execute_result"
    }
   ],
   "source": [
    "dataVentes[dataVentes[\"price\"]> limitOutlier][\"price\"].mean()"
   ]
  },
  {
   "attachments": {},
   "cell_type": "markdown",
   "metadata": {},
   "source": [
    "On constate que le prix moyen des bouteilles outlier est de 121€ environ alors qu'il est de 32€ environ pour l'ensemble des bouteille"
   ]
  },
  {
   "attachments": {},
   "cell_type": "markdown",
   "metadata": {},
   "source": [
    "#### 3.2.3 Que faire des valeurs atypiques ? "
   ]
  },
  {
   "attachments": {},
   "cell_type": "markdown",
   "metadata": {},
   "source": [
    "Lorsque l'on se penche sur les bouteilles qui ont un prix que l'on pourrait considérer comme valeur aberrante, on peut se rendre compte que cela n'est manifestement pas lié à une erreur de saisie ou à un problème informatique quelconque. Les bouteilles concernées portent souvent l'appellation \"grand cru\", \"1er cru\", et sont souvent des champagnes ce qui laisse penser qu'il s'agit donc uniquement de bouteilles haut de gamme. Nous prenons donc la décision de ne pas les supprimer. "
   ]
  }
 ],
 "metadata": {
  "kernelspec": {
   "display_name": "environnement",
   "language": "python",
   "name": "python3"
  },
  "language_info": {
   "codemirror_mode": {
    "name": "ipython",
    "version": 3
   },
   "file_extension": ".py",
   "mimetype": "text/x-python",
   "name": "python",
   "nbconvert_exporter": "python",
   "pygments_lexer": "ipython3",
   "version": "3.11.0"
  },
  "orig_nbformat": 4,
  "vscode": {
   "interpreter": {
    "hash": "10a485492f8653248623b003fcc4e8f6dd3e0e5b0b92b3f2d751bdc31f447679"
   }
  }
 },
 "nbformat": 4,
 "nbformat_minor": 2
}
