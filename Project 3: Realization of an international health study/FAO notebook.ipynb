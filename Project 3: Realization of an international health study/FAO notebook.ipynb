{
 "cells": [
  {
   "attachments": {},
   "cell_type": "markdown",
   "metadata": {},
   "source": [
    "# Analyse de données FAO v1 (01/2023, Kamel Badar)"
   ]
  },
  {
   "attachments": {},
   "cell_type": "markdown",
   "metadata": {},
   "source": [
    "# 1 Introduction "
   ]
  },
  {
   "attachments": {},
   "cell_type": "markdown",
   "metadata": {},
   "source": [
    "Ce notebook présentera les résultats de l'analyse des données qui a été conduite afin de dresser un panorama mondial de la situation en ce qui concerne la sous-nutrition."
   ]
  },
  {
   "attachments": {},
   "cell_type": "markdown",
   "metadata": {},
   "source": [
    "## 1.1 Importation des librairies "
   ]
  },
  {
   "cell_type": "code",
   "execution_count": 30,
   "metadata": {},
   "outputs": [],
   "source": [
    "# Importation de 7 librairies pour la manipulation et l'analyse des données\n",
    "import pandas as pd \n",
    "import numpy as np \n",
    "import matplotlib.pyplot as plt\n",
    "import plotly.express as px\n",
    "import seaborn as sns\n",
    "import folium \n",
    "from fuzzywuzzy import fuzz\n"
   ]
  },
  {
   "attachments": {},
   "cell_type": "markdown",
   "metadata": {},
   "source": [
    "## 1.2 Importation des données"
   ]
  },
  {
   "cell_type": "code",
   "execution_count": 31,
   "metadata": {},
   "outputs": [],
   "source": [
    "## Importation des 4 fichiers CSV \n",
    "df_aide_alim = pd.read_csv ('aide_alimentaire.csv')\n",
    "df_dispo_alim = pd.read_csv ('dispo_alimentaire.csv')\n",
    "df_sous_nutri = pd.read_csv ('sous_nutrition.csv')\n",
    "df_pop = pd.read_csv ('population.csv')"
   ]
  },
  {
   "cell_type": "code",
   "execution_count": 32,
   "metadata": {},
   "outputs": [
    {
     "data": {
      "text/plain": [
       "<bound method NDFrame.head of      Pays bénéficiaire  Année                   Produit  Valeur\n",
       "0          Afghanistan   2013       Autres non-céréales     682\n",
       "1          Afghanistan   2014       Autres non-céréales     335\n",
       "2          Afghanistan   2013              Blé et Farin   39224\n",
       "3          Afghanistan   2014              Blé et Farin   15160\n",
       "4          Afghanistan   2013                  Céréales   40504\n",
       "...                ...    ...                       ...     ...\n",
       "1470          Zimbabwe   2015  Mélanges et préparations      96\n",
       "1471          Zimbabwe   2013              Non-céréales    5022\n",
       "1472          Zimbabwe   2014              Non-céréales    2310\n",
       "1473          Zimbabwe   2015              Non-céréales     306\n",
       "1474          Zimbabwe   2013                Riz, total      64\n",
       "\n",
       "[1475 rows x 4 columns]>"
      ]
     },
     "execution_count": 32,
     "metadata": {},
     "output_type": "execute_result"
    }
   ],
   "source": [
    "## Vérification du bon chargement des données pour chaque DF\n",
    "df_aide_alim.head"
   ]
  },
  {
   "cell_type": "code",
   "execution_count": 33,
   "metadata": {},
   "outputs": [
    {
     "data": {
      "text/plain": [
       "<bound method NDFrame.head of      Pays bénéficiaire  Année                   Produit  Valeur\n",
       "0          Afghanistan   2013       Autres non-céréales     682\n",
       "1          Afghanistan   2014       Autres non-céréales     335\n",
       "2          Afghanistan   2013              Blé et Farin   39224\n",
       "3          Afghanistan   2014              Blé et Farin   15160\n",
       "4          Afghanistan   2013                  Céréales   40504\n",
       "...                ...    ...                       ...     ...\n",
       "1470          Zimbabwe   2015  Mélanges et préparations      96\n",
       "1471          Zimbabwe   2013              Non-céréales    5022\n",
       "1472          Zimbabwe   2014              Non-céréales    2310\n",
       "1473          Zimbabwe   2015              Non-céréales     306\n",
       "1474          Zimbabwe   2013                Riz, total      64\n",
       "\n",
       "[1475 rows x 4 columns]>"
      ]
     },
     "execution_count": 33,
     "metadata": {},
     "output_type": "execute_result"
    }
   ],
   "source": [
    "df_aide_alim.head"
   ]
  },
  {
   "cell_type": "code",
   "execution_count": 34,
   "metadata": {},
   "outputs": [
    {
     "data": {
      "text/plain": [
       "<bound method NDFrame.head of              Zone  Année     Valeur\n",
       "0     Afghanistan   2013  32269.589\n",
       "1     Afghanistan   2014  33370.794\n",
       "2     Afghanistan   2015  34413.603\n",
       "3     Afghanistan   2016  35383.032\n",
       "4     Afghanistan   2017  36296.113\n",
       "...           ...    ...        ...\n",
       "1411     Zimbabwe   2014  13586.707\n",
       "1412     Zimbabwe   2015  13814.629\n",
       "1413     Zimbabwe   2016  14030.331\n",
       "1414     Zimbabwe   2017  14236.595\n",
       "1415     Zimbabwe   2018  14438.802\n",
       "\n",
       "[1416 rows x 3 columns]>"
      ]
     },
     "execution_count": 34,
     "metadata": {},
     "output_type": "execute_result"
    }
   ],
   "source": [
    "df_pop.head"
   ]
  },
  {
   "cell_type": "code",
   "execution_count": 35,
   "metadata": {},
   "outputs": [
    {
     "data": {
      "text/plain": [
       "<bound method NDFrame.head of              Zone      Année Valeur\n",
       "0     Afghanistan  2012-2014    8.6\n",
       "1     Afghanistan  2013-2015    8.8\n",
       "2     Afghanistan  2014-2016    8.9\n",
       "3     Afghanistan  2015-2017    9.7\n",
       "4     Afghanistan  2016-2018   10.5\n",
       "...           ...        ...    ...\n",
       "1213     Zimbabwe  2013-2015    NaN\n",
       "1214     Zimbabwe  2014-2016    NaN\n",
       "1215     Zimbabwe  2015-2017    NaN\n",
       "1216     Zimbabwe  2016-2018    NaN\n",
       "1217     Zimbabwe  2017-2019    NaN\n",
       "\n",
       "[1218 rows x 3 columns]>"
      ]
     },
     "execution_count": 35,
     "metadata": {},
     "output_type": "execute_result"
    }
   ],
   "source": [
    "df_sous_nutri.head"
   ]
  },
  {
   "attachments": {},
   "cell_type": "markdown",
   "metadata": {},
   "source": [
    "Les données ont été correctement chargées dans nos dataframes."
   ]
  },
  {
   "attachments": {},
   "cell_type": "markdown",
   "metadata": {},
   "source": [
    "## 1.3 DF sous-nutrition"
   ]
  },
  {
   "attachments": {},
   "cell_type": "markdown",
   "metadata": {},
   "source": [
    "### 1.3.1 Modification de la colonne 'Année' pour s'adapter aux requêtes"
   ]
  },
  {
   "cell_type": "code",
   "execution_count": 36,
   "metadata": {},
   "outputs": [
    {
     "data": {
      "text/plain": [
       "<bound method NDFrame.head of              Zone Année Valeur\n",
       "0     Afghanistan  2013    8.6\n",
       "1     Afghanistan  2014    8.8\n",
       "2     Afghanistan  2015    8.9\n",
       "3     Afghanistan  2016    9.7\n",
       "4     Afghanistan  2017   10.5\n",
       "...           ...   ...    ...\n",
       "1213     Zimbabwe  2014    NaN\n",
       "1214     Zimbabwe  2015    NaN\n",
       "1215     Zimbabwe  2016    NaN\n",
       "1216     Zimbabwe  2017    NaN\n",
       "1217     Zimbabwe  2018    NaN\n",
       "\n",
       "[1218 rows x 3 columns]>"
      ]
     },
     "execution_count": 36,
     "metadata": {},
     "output_type": "execute_result"
    }
   ],
   "source": [
    "df_sous_nutri[\"Année\"].replace([\"2012-2014\",\"2013-2015\",\"2014-2016\",\"2015-2017\",\"2016-2018\",\"2017-2019\"],[\"2013\",\"2014\",\"2015\",\"2016\",\"2017\",\"2018\"], inplace=True)\n",
    "# On transforme les tranches d'années en années en les remplaçant par leur valeur médiane\n",
    "df_sous_nutri.head    "
   ]
  },
  {
   "attachments": {},
   "cell_type": "markdown",
   "metadata": {},
   "source": [
    "### 1.3.2 Modification du type des données de la colonne 'Année'"
   ]
  },
  {
   "cell_type": "code",
   "execution_count": 37,
   "metadata": {},
   "outputs": [
    {
     "data": {
      "text/plain": [
       "Zone      object\n",
       "Année     object\n",
       "Valeur    object\n",
       "dtype: object"
      ]
     },
     "execution_count": 37,
     "metadata": {},
     "output_type": "execute_result"
    }
   ],
   "source": [
    "df_sous_nutri.dtypes # On constate que la colonne 'Année' est traitée comme un objet au même titre que la colonne 'Valeur'(voir 1.3.5)"
   ]
  },
  {
   "cell_type": "code",
   "execution_count": 38,
   "metadata": {},
   "outputs": [
    {
     "data": {
      "text/plain": [
       "Zone      object\n",
       "Année      int32\n",
       "Valeur    object\n",
       "dtype: object"
      ]
     },
     "execution_count": 38,
     "metadata": {},
     "output_type": "execute_result"
    }
   ],
   "source": [
    "df_sous_nutri['Année'] = df_sous_nutri['Année'].astype(int)\n",
    " # On change le type de données en INTEGER\n",
    "df_sous_nutri.dtypes"
   ]
  },
  {
   "attachments": {},
   "cell_type": "markdown",
   "metadata": {},
   "source": [
    "### 1.3.3 Gestion des données manquantes "
   ]
  },
  {
   "cell_type": "code",
   "execution_count": 39,
   "metadata": {},
   "outputs": [
    {
     "data": {
      "text/plain": [
       "Zone      0.000000\n",
       "Année     0.000000\n",
       "Valeur    0.487685\n",
       "dtype: float64"
      ]
     },
     "execution_count": 39,
     "metadata": {},
     "output_type": "execute_result"
    }
   ],
   "source": [
    "# Contrôle des valeurs manquantes sur le DF sous-nutrition\n",
    "\n",
    "df_sous_nutri.isna().mean()"
   ]
  },
  {
   "cell_type": "code",
   "execution_count": 40,
   "metadata": {},
   "outputs": [],
   "source": [
    "df_sous_nutri.dropna(inplace=True) # On a choisi de supprimer les lignes du DF pour lesquelles il y a une valeur manquante"
   ]
  },
  {
   "attachments": {},
   "cell_type": "markdown",
   "metadata": {},
   "source": [
    "### 1.3.4 Nettoyage complémentaire"
   ]
  },
  {
   "cell_type": "code",
   "execution_count": 41,
   "metadata": {},
   "outputs": [],
   "source": [
    "df_sous_nutri['Valeur'].replace('<0.1', 0, inplace=True) # On remplace la valeur '<0,1' par 0"
   ]
  },
  {
   "attachments": {},
   "cell_type": "markdown",
   "metadata": {},
   "source": [
    "### 1.3.5 Modification du type des données de la colonne 'Valeur'"
   ]
  },
  {
   "cell_type": "code",
   "execution_count": 42,
   "metadata": {},
   "outputs": [
    {
     "data": {
      "text/plain": [
       "Zone       object\n",
       "Année       int32\n",
       "Valeur    float64\n",
       "dtype: object"
      ]
     },
     "execution_count": 42,
     "metadata": {},
     "output_type": "execute_result"
    }
   ],
   "source": [
    "df_sous_nutri['Valeur'] = df_sous_nutri['Valeur'].astype(float)\n",
    "# On change le type de données en float\n",
    "df_sous_nutri.dtypes"
   ]
  },
  {
   "attachments": {},
   "cell_type": "markdown",
   "metadata": {},
   "source": [
    "### 1.3.6 Modification de l'unité pour la colonne 'Valeur'"
   ]
  },
  {
   "cell_type": "code",
   "execution_count": 43,
   "metadata": {},
   "outputs": [
    {
     "data": {
      "text/plain": [
       "<bound method NDFrame.head of              Zone  Année   Valeur\n",
       "0     Afghanistan   2013   8600.0\n",
       "1     Afghanistan   2014   8800.0\n",
       "2     Afghanistan   2015   8900.0\n",
       "3     Afghanistan   2016   9700.0\n",
       "4     Afghanistan   2017  10500.0\n",
       "...           ...    ...      ...\n",
       "1195     Viet Nam   2014   8300.0\n",
       "1196     Viet Nam   2015   7600.0\n",
       "1197     Viet Nam   2016   7100.0\n",
       "1198     Viet Nam   2017   6500.0\n",
       "1199     Viet Nam   2018   6100.0\n",
       "\n",
       "[624 rows x 3 columns]>"
      ]
     },
     "execution_count": 43,
     "metadata": {},
     "output_type": "execute_result"
    }
   ],
   "source": [
    "df_sous_nutri['Valeur'] = df_sous_nutri['Valeur']*1000 #Le nombre de personnes en sous-nutrition est exprimé en millions d'habitants dans le fichier initial \n",
    "# mais nous avons choisi de le représenter ici en milliers\n",
    "df_sous_nutri.head"
   ]
  },
  {
   "attachments": {},
   "cell_type": "markdown",
   "metadata": {},
   "source": [
    "## 1.4 DF disponibilité alimentaire "
   ]
  },
  {
   "attachments": {},
   "cell_type": "markdown",
   "metadata": {},
   "source": [
    "### 1.4.1 Gestion des données manquantes "
   ]
  },
  {
   "cell_type": "code",
   "execution_count": 44,
   "metadata": {},
   "outputs": [],
   "source": [
    "df_dispo_alim.fillna(0, inplace=True) # On a choisi de remplacer les données manquantes de ce DF par 0 \n"
   ]
  },
  {
   "attachments": {},
   "cell_type": "markdown",
   "metadata": {},
   "source": [
    "### 1.4.2 Notes sur la \"disponibilité alimentaire\""
   ]
  },
  {
   "attachments": {},
   "cell_type": "markdown",
   "metadata": {},
   "source": [
    "- La disponibilité alimentaire correspond à la disponibilité d'aliments en quantité suffisante et d'une qualité appropriée pour l’alimentation humaine.\n",
    "\n",
    "- La disponibilité intérieure correspond à la disponibilité totale d’un aliment au sein du pays.\n",
    "\n",
    "- Disponibilité intérieure =  production + importations - exportation + variation des stocks\n",
    "\n",
    "- Disponibilité intérieure = Aliments pour animaux + autres utilisations + nourriture + pertes + semences + traitement\n"
   ]
  },
  {
   "attachments": {},
   "cell_type": "markdown",
   "metadata": {},
   "source": [
    "# 2 Les demandes de Marc"
   ]
  },
  {
   "attachments": {},
   "cell_type": "markdown",
   "metadata": {},
   "source": [
    "### 2.1 La proportion de personnes en état de sous-nutrition pour l'année 2017"
   ]
  },
  {
   "cell_type": "code",
   "execution_count": 45,
   "metadata": {},
   "outputs": [
    {
     "name": "stdout",
     "output_type": "stream",
     "text": [
      "En 2017, on comptait 7548134000 de personnes sur Terre parmi lesquelles 7.1% étaient en état de sous nutrition.\n"
     ]
    }
   ],
   "source": [
    "# Définir la population mondiale en 2017\n",
    "pop_mond_2017 = sum(df_pop.loc[df_pop['Année']==2017, 'Valeur'])\n",
    "# Définir le nombre de personnes en état de sous-nutrition\n",
    "sous_nut_2017 = sum(df_sous_nutri.loc[df_pop['Année']==2017, 'Valeur'])\n",
    "# Calculer la proportion de personnes en état de sous-nutrition\n",
    "prop_ss_nut_2017 = (sous_nut_2017)/(pop_mond_2017)*100\n",
    "# Arrondir le résultat\n",
    "prop_ss_nut_2017 = round(prop_ss_nut_2017,2)\n",
    "# Afficher le résultat \n",
    "print(f'En 2017, on comptait {round(pop_mond_2017)*1000} de personnes sur Terre parmi lesquelles {prop_ss_nut_2017}% étaient en état de sous nutrition.')\n"
   ]
  },
  {
   "attachments": {},
   "cell_type": "markdown",
   "metadata": {},
   "source": [
    "### 2.2 Le nombre théorique de personnes qui pourraient être nourries"
   ]
  },
  {
   "cell_type": "code",
   "execution_count": 46,
   "metadata": {},
   "outputs": [
    {
     "name": "stdout",
     "output_type": "stream",
     "text": [
      " La disponibilité alimentaire mondiale de 2017 pouvait nourrir 8716243595 personnes, ce qui correspond à 1.15 fois la population mondiale\n"
     ]
    }
   ],
   "source": [
    "# Joindre les données des DF population et disponibilité alimentaire\n",
    "pop_2017 = df_pop.loc[df_pop['Année']==2017]\n",
    "df_dispo_alim = pd.merge(df_dispo_alim, pop_2017, how='left', on='Zone')\n",
    "# Calculer la disponibilité alimentaire journalière pour la population de chaque pays \n",
    "df_dispo_alim['Kcal/jour/population'] = df_dispo_alim['Valeur']*df_dispo_alim['Disponibilité alimentaire (Kcal/personne/jour)']\n",
    "# On fait la somme de la colonne nouvellement créée et on divise par 2400 (besoin alimentaire moyen par individu) \n",
    "# puis on multiplie par 1000 car le résultat est en milliers\n",
    "# Arrondir et afficher le résultat\n",
    "resultat_global = round(df_dispo_alim['Kcal/jour/population'].sum()/2400*1000)\n",
    "print(f' La disponibilité alimentaire mondiale de 2017 pouvait nourrir {resultat_global} personnes, ce qui correspond à {round((resultat_global)/(pop_mond_2017)/1000, 2)} fois la population mondiale')"
   ]
  },
  {
   "attachments": {},
   "cell_type": "markdown",
   "metadata": {},
   "source": [
    "### 2.3 Idem pour la disponibilité alimentaire des végétaux"
   ]
  },
  {
   "cell_type": "code",
   "execution_count": 47,
   "metadata": {},
   "outputs": [
    {
     "name": "stdout",
     "output_type": "stream",
     "text": [
      "La disponibilité alimentaire végétale mondiale de 2017 pouvait nourrir 7191985088 personnes, ce qui correspond à 95% de la population mondiale.\n"
     ]
    }
   ],
   "source": [
    "# On garde uniquement la colonne 'Origine' du DF disponibilité alimentaire pour lequel nous avons effectué une jointure précédemment\n",
    "dispo_orig_vege = df_dispo_alim.loc[df_dispo_alim['Origine']=='vegetale']\n",
    "# On fait la somme de la colonne nouvellement créée et on divise par 2400 (besoin alimentaire moyen par individu) \n",
    "# puis on multiplie par 1000 car le résultat est en milliers.\n",
    "resultat_vege = round((dispo_orig_vege['Kcal/jour/population'].sum())/2400*1000)\n",
    "# On affiche le résultat \n",
    "print(f'La disponibilité alimentaire végétale mondiale de 2017 pouvait nourrir {resultat_vege} personnes, ce qui correspond à {round((resultat_vege)/(pop_mond_2017)/10)}% de la population mondiale.')"
   ]
  },
  {
   "attachments": {},
   "cell_type": "markdown",
   "metadata": {},
   "source": [
    "### 2.4 L'utilisation de la disponibilité intérieure "
   ]
  },
  {
   "cell_type": "code",
   "execution_count": 48,
   "metadata": {},
   "outputs": [
    {
     "data": {
      "text/html": [
       "<div>\n",
       "<style scoped>\n",
       "    .dataframe tbody tr th:only-of-type {\n",
       "        vertical-align: middle;\n",
       "    }\n",
       "\n",
       "    .dataframe tbody tr th {\n",
       "        vertical-align: top;\n",
       "    }\n",
       "\n",
       "    .dataframe thead th {\n",
       "        text-align: right;\n",
       "    }\n",
       "</style>\n",
       "<table border=\"1\" class=\"dataframe\">\n",
       "  <thead>\n",
       "    <tr style=\"text-align: right;\">\n",
       "      <th></th>\n",
       "      <th>total_tonnes</th>\n",
       "      <th>proportion</th>\n",
       "    </tr>\n",
       "    <tr>\n",
       "      <th>Utilisations</th>\n",
       "      <th></th>\n",
       "      <th></th>\n",
       "    </tr>\n",
       "  </thead>\n",
       "  <tbody>\n",
       "    <tr>\n",
       "      <th>Semences</th>\n",
       "      <td>154.681</td>\n",
       "      <td>1.57</td>\n",
       "    </tr>\n",
       "    <tr>\n",
       "      <th>Pertes</th>\n",
       "      <td>453.698</td>\n",
       "      <td>4.60</td>\n",
       "    </tr>\n",
       "    <tr>\n",
       "      <th>Autres Utilisations</th>\n",
       "      <td>865.023</td>\n",
       "      <td>8.77</td>\n",
       "    </tr>\n",
       "    <tr>\n",
       "      <th>Aliments pour animaux</th>\n",
       "      <td>1304.245</td>\n",
       "      <td>13.23</td>\n",
       "    </tr>\n",
       "    <tr>\n",
       "      <th>Traitement</th>\n",
       "      <td>2204.687</td>\n",
       "      <td>22.36</td>\n",
       "    </tr>\n",
       "    <tr>\n",
       "      <th>Nourriture</th>\n",
       "      <td>4876.258</td>\n",
       "      <td>49.46</td>\n",
       "    </tr>\n",
       "  </tbody>\n",
       "</table>\n",
       "</div>"
      ],
      "text/plain": [
       "                       total_tonnes  proportion\n",
       "Utilisations                                   \n",
       "Semences                    154.681        1.57\n",
       "Pertes                      453.698        4.60\n",
       "Autres Utilisations         865.023        8.77\n",
       "Aliments pour animaux      1304.245       13.23\n",
       "Traitement                 2204.687       22.36\n",
       "Nourriture                 4876.258       49.46"
      ]
     },
     "execution_count": 48,
     "metadata": {},
     "output_type": "execute_result"
    }
   ],
   "source": [
    "# Extraction des colonnes correspondantes aux différentes utilisations possibles de la disponibilité alimentaire\n",
    "colonnes_a_extraire = ['Aliments pour animaux', 'Semences', 'Autres Utilisations', 'Pertes', 'Traitement', 'Nourriture']\n",
    "\n",
    "# Obtention du total correspondant aux colonnes selectionnées qu'on divise par 1000 pour avoir le resultat en tonnes\n",
    "total_tonnes= df_dispo_alim[colonnes_a_extraire].sum()/1000\n",
    "\n",
    "# On établit un nom afin d'indexer les types d'utilisation aux lignes du DF\n",
    "total_tonnes.index.name = 'Utilisations'\n",
    "\n",
    "# On crée le DF avec les nouvelles valeurs \n",
    "df_repartition_dispo_interieure_2017 = pd.DataFrame(total_tonnes, columns=['total_tonnes'])\n",
    "\n",
    "# Calcul de la disponibilité totale \n",
    "disponibilite_totale = total_tonnes.sum()\n",
    "# Création d'une colonne montrant la proportion de chaque type d'utilisation par rapport à la disponibilité alimentaire totale \n",
    "# qu'on arrondit à deux décimales. On affiche ensuite le résultat dans l'ordre croissant des proportions.\n",
    "df_repartition_dispo_interieure_2017['proportion'] = round(total_tonnes.div(disponibilite_totale)*100,2)\n",
    "df_repartition_dispo_interieure_2017.sort_values(by='proportion', ascending=True)"
   ]
  },
  {
   "cell_type": "code",
   "execution_count": 49,
   "metadata": {},
   "outputs": [
    {
     "data": {
      "image/png": "[encoded data removed]",
      "text/plain": [
       "<Figure size 640x480 with 1 Axes>"
      ]
     },
     "metadata": {},
     "output_type": "display_data"
    }
   ],
   "source": [
    "# On crée un diagramme en 'camembert' pour visualiser les données \n",
    "\n",
    "x = df_repartition_dispo_interieure_2017.index\n",
    "y = df_repartition_dispo_interieure_2017['proportion']\n",
    "plt.pie(y,labels=x, autopct='%1.1f%%')\n",
    "\n",
    "# Ajout d'un titre\n",
    "plt.title('Proportion des types d\\'utilisation par rapport à la disponibilité totale')\n",
    "\n",
    "# Montrer le graphique\n",
    "plt.show()"
   ]
  },
  {
   "attachments": {},
   "cell_type": "markdown",
   "metadata": {},
   "source": [
    "# 3 Les demandes de Julien "
   ]
  },
  {
   "attachments": {},
   "cell_type": "markdown",
   "metadata": {},
   "source": [
    "### 3.1 Les chiffres intéressants sur l’utilisation des céréales, notamment la répartition entre l’alimentation humaine (colonne Nourriture) et l’alimentation pour animaux?"
   ]
  },
  {
   "cell_type": "code",
   "execution_count": 50,
   "metadata": {},
   "outputs": [],
   "source": [
    "# On consulte les données disponibles sur le site de la FAO pour connaître les différentes catégories de céréales\n",
    "# puis on crée une liste à partir de celles-ci\n",
    "Liste_cereales_site = ['Blé et produits', 'Riz (Eq Blanchi)', 'Orge et produits', 'Maïs et produits', 'Seigle et produits',\n",
    "            'Avoine', 'Millet et produits', 'Sorgho et produits', 'Céréales Autres']"
   ]
  },
  {
   "cell_type": "code",
   "execution_count": 51,
   "metadata": {},
   "outputs": [],
   "source": [
    "# On affiche les valeurs uniques de la colonne \"produit\" du DF dispo alimentaire afin de disposer de toutes les catégories\n",
    "Liste_dispos = df_dispo_alim[\"Produit\"].unique()"
   ]
  },
  {
   "cell_type": "code",
   "execution_count": 52,
   "metadata": {},
   "outputs": [
    {
     "data": {
      "text/plain": [
       "['Blé',\n",
       " 'Riz (Eq Blanchi)',\n",
       " 'Orge',\n",
       " 'Maïs',\n",
       " 'Seigle',\n",
       " 'Avoine',\n",
       " 'Millet',\n",
       " 'Sorgho']"
      ]
     },
     "execution_count": 52,
     "metadata": {},
     "output_type": "execute_result"
    }
   ],
   "source": [
    "# On crée une fonction qui vise à comparer les deux liste et qui retournera les valeurs à conserver (i.e toutes les céréales)\n",
    "def CompareLists(list1, list2):\n",
    "    dict = {}\n",
    "    liste_cereales = []\n",
    "    for item1 in list1:\n",
    "        for item2 in list2:\n",
    "            current_leven = fuzz.partial_ratio(item1, item2)\n",
    "            if current_leven > 93:\n",
    "                dict[item1] = (item2, current_leven)\n",
    "                liste_cereales.append(item2)\n",
    "    return liste_cereales\n",
    "\n",
    "\n",
    "CompareLists(Liste_cereales_site, Liste_dispos)"
   ]
  },
  {
   "cell_type": "code",
   "execution_count": 53,
   "metadata": {},
   "outputs": [
    {
     "data": {
      "text/html": [
       "<div>\n",
       "<style scoped>\n",
       "    .dataframe tbody tr th:only-of-type {\n",
       "        vertical-align: middle;\n",
       "    }\n",
       "\n",
       "    .dataframe tbody tr th {\n",
       "        vertical-align: top;\n",
       "    }\n",
       "\n",
       "    .dataframe thead th {\n",
       "        text-align: right;\n",
       "    }\n",
       "</style>\n",
       "<table border=\"1\" class=\"dataframe\">\n",
       "  <thead>\n",
       "    <tr style=\"text-align: right;\">\n",
       "      <th></th>\n",
       "      <th>Zone</th>\n",
       "      <th>Produit</th>\n",
       "      <th>Origine</th>\n",
       "      <th>Aliments pour animaux</th>\n",
       "      <th>Autres Utilisations</th>\n",
       "      <th>Disponibilité alimentaire (Kcal/personne/jour)</th>\n",
       "      <th>Disponibilité alimentaire en quantité (kg/personne/an)</th>\n",
       "      <th>Disponibilité de matière grasse en quantité (g/personne/jour)</th>\n",
       "      <th>Disponibilité de protéines en quantité (g/personne/jour)</th>\n",
       "      <th>Disponibilité intérieure</th>\n",
       "      <th>...</th>\n",
       "      <th>Importations - Quantité</th>\n",
       "      <th>Nourriture</th>\n",
       "      <th>Pertes</th>\n",
       "      <th>Production</th>\n",
       "      <th>Semences</th>\n",
       "      <th>Traitement</th>\n",
       "      <th>Variation de stock</th>\n",
       "      <th>Année</th>\n",
       "      <th>Valeur</th>\n",
       "      <th>Kcal/jour/population</th>\n",
       "    </tr>\n",
       "  </thead>\n",
       "  <tbody>\n",
       "    <tr>\n",
       "      <th>47</th>\n",
       "      <td>Afghanistan</td>\n",
       "      <td>Riz (Eq Blanchi)</td>\n",
       "      <td>vegetale</td>\n",
       "      <td>0.0</td>\n",
       "      <td>0.0</td>\n",
       "      <td>141.0</td>\n",
       "      <td>13.82</td>\n",
       "      <td>0.27</td>\n",
       "      <td>2.70</td>\n",
       "      <td>461.0</td>\n",
       "      <td>...</td>\n",
       "      <td>119.0</td>\n",
       "      <td>422.0</td>\n",
       "      <td>24.0</td>\n",
       "      <td>342.0</td>\n",
       "      <td>14.0</td>\n",
       "      <td>0.0</td>\n",
       "      <td>0.0</td>\n",
       "      <td>2017.0</td>\n",
       "      <td>36296.113</td>\n",
       "      <td>5117751.933</td>\n",
       "    </tr>\n",
       "    <tr>\n",
       "      <th>67</th>\n",
       "      <td>Afrique du Sud</td>\n",
       "      <td>Avoine</td>\n",
       "      <td>vegetale</td>\n",
       "      <td>8.0</td>\n",
       "      <td>0.0</td>\n",
       "      <td>5.0</td>\n",
       "      <td>0.75</td>\n",
       "      <td>0.09</td>\n",
       "      <td>0.16</td>\n",
       "      <td>49.0</td>\n",
       "      <td>...</td>\n",
       "      <td>25.0</td>\n",
       "      <td>40.0</td>\n",
       "      <td>1.0</td>\n",
       "      <td>28.0</td>\n",
       "      <td>1.0</td>\n",
       "      <td>0.0</td>\n",
       "      <td>0.0</td>\n",
       "      <td>2017.0</td>\n",
       "      <td>57009.756</td>\n",
       "      <td>285048.780</td>\n",
       "    </tr>\n",
       "    <tr>\n",
       "      <th>138</th>\n",
       "      <td>Afrique du Sud</td>\n",
       "      <td>Riz (Eq Blanchi)</td>\n",
       "      <td>vegetale</td>\n",
       "      <td>0.0</td>\n",
       "      <td>0.0</td>\n",
       "      <td>169.0</td>\n",
       "      <td>17.41</td>\n",
       "      <td>0.23</td>\n",
       "      <td>3.25</td>\n",
       "      <td>920.0</td>\n",
       "      <td>...</td>\n",
       "      <td>1311.0</td>\n",
       "      <td>919.0</td>\n",
       "      <td>0.0</td>\n",
       "      <td>3.0</td>\n",
       "      <td>0.0</td>\n",
       "      <td>0.0</td>\n",
       "      <td>-231.0</td>\n",
       "      <td>2017.0</td>\n",
       "      <td>57009.756</td>\n",
       "      <td>9634648.764</td>\n",
       "    </tr>\n",
       "    <tr>\n",
       "      <th>162</th>\n",
       "      <td>Albanie</td>\n",
       "      <td>Avoine</td>\n",
       "      <td>vegetale</td>\n",
       "      <td>25.0</td>\n",
       "      <td>0.0</td>\n",
       "      <td>1.0</td>\n",
       "      <td>0.13</td>\n",
       "      <td>0.01</td>\n",
       "      <td>0.03</td>\n",
       "      <td>28.0</td>\n",
       "      <td>...</td>\n",
       "      <td>1.0</td>\n",
       "      <td>0.0</td>\n",
       "      <td>1.0</td>\n",
       "      <td>27.0</td>\n",
       "      <td>1.0</td>\n",
       "      <td>0.0</td>\n",
       "      <td>0.0</td>\n",
       "      <td>2017.0</td>\n",
       "      <td>2884.169</td>\n",
       "      <td>2884.169</td>\n",
       "    </tr>\n",
       "    <tr>\n",
       "      <th>231</th>\n",
       "      <td>Albanie</td>\n",
       "      <td>Riz (Eq Blanchi)</td>\n",
       "      <td>vegetale</td>\n",
       "      <td>0.0</td>\n",
       "      <td>0.0</td>\n",
       "      <td>68.0</td>\n",
       "      <td>7.78</td>\n",
       "      <td>0.16</td>\n",
       "      <td>1.34</td>\n",
       "      <td>25.0</td>\n",
       "      <td>...</td>\n",
       "      <td>25.0</td>\n",
       "      <td>25.0</td>\n",
       "      <td>0.0</td>\n",
       "      <td>0.0</td>\n",
       "      <td>0.0</td>\n",
       "      <td>0.0</td>\n",
       "      <td>0.0</td>\n",
       "      <td>2017.0</td>\n",
       "      <td>2884.169</td>\n",
       "      <td>196123.492</td>\n",
       "    </tr>\n",
       "  </tbody>\n",
       "</table>\n",
       "<p>5 rows × 21 columns</p>\n",
       "</div>"
      ],
      "text/plain": [
       "               Zone           Produit   Origine  Aliments pour animaux  \\\n",
       "47      Afghanistan  Riz (Eq Blanchi)  vegetale                    0.0   \n",
       "67   Afrique du Sud            Avoine  vegetale                    8.0   \n",
       "138  Afrique du Sud  Riz (Eq Blanchi)  vegetale                    0.0   \n",
       "162         Albanie            Avoine  vegetale                   25.0   \n",
       "231         Albanie  Riz (Eq Blanchi)  vegetale                    0.0   \n",
       "\n",
       "     Autres Utilisations  Disponibilité alimentaire (Kcal/personne/jour)  \\\n",
       "47                   0.0                                           141.0   \n",
       "67                   0.0                                             5.0   \n",
       "138                  0.0                                           169.0   \n",
       "162                  0.0                                             1.0   \n",
       "231                  0.0                                            68.0   \n",
       "\n",
       "     Disponibilité alimentaire en quantité (kg/personne/an)  \\\n",
       "47                                               13.82        \n",
       "67                                                0.75        \n",
       "138                                              17.41        \n",
       "162                                               0.13        \n",
       "231                                               7.78        \n",
       "\n",
       "     Disponibilité de matière grasse en quantité (g/personne/jour)  \\\n",
       "47                                                0.27               \n",
       "67                                                0.09               \n",
       "138                                               0.23               \n",
       "162                                               0.01               \n",
       "231                                               0.16               \n",
       "\n",
       "     Disponibilité de protéines en quantité (g/personne/jour)  \\\n",
       "47                                                2.70          \n",
       "67                                                0.16          \n",
       "138                                               3.25          \n",
       "162                                               0.03          \n",
       "231                                               1.34          \n",
       "\n",
       "     Disponibilité intérieure  ...  Importations - Quantité  Nourriture  \\\n",
       "47                      461.0  ...                    119.0       422.0   \n",
       "67                       49.0  ...                     25.0        40.0   \n",
       "138                     920.0  ...                   1311.0       919.0   \n",
       "162                      28.0  ...                      1.0         0.0   \n",
       "231                      25.0  ...                     25.0        25.0   \n",
       "\n",
       "     Pertes  Production  Semences  Traitement  Variation de stock   Année  \\\n",
       "47     24.0       342.0      14.0         0.0                 0.0  2017.0   \n",
       "67      1.0        28.0       1.0         0.0                 0.0  2017.0   \n",
       "138     0.0         3.0       0.0         0.0              -231.0  2017.0   \n",
       "162     1.0        27.0       1.0         0.0                 0.0  2017.0   \n",
       "231     0.0         0.0       0.0         0.0                 0.0  2017.0   \n",
       "\n",
       "        Valeur  Kcal/jour/population  \n",
       "47   36296.113           5117751.933  \n",
       "67   57009.756            285048.780  \n",
       "138  57009.756           9634648.764  \n",
       "162   2884.169              2884.169  \n",
       "231   2884.169            196123.492  \n",
       "\n",
       "[5 rows x 21 columns]"
      ]
     },
     "execution_count": 53,
     "metadata": {},
     "output_type": "execute_result"
    }
   ],
   "source": [
    "# On crée un dataframe uniquement composé des produits céréaliers en les localisant dans le DF dispo alim\n",
    "df_dispo_alim_cereales = df_dispo_alim.loc[df_dispo_alim[\"Produit\"].isin(\n",
    "    Liste_cereales_site)]\n",
    "df_dispo_alim_cereales.head()"
   ]
  },
  {
   "cell_type": "code",
   "execution_count": 54,
   "metadata": {},
   "outputs": [
    {
     "name": "stdout",
     "output_type": "stream",
     "text": [
      "Pourcentage de disponibilité céréalière alloué à l'alimentation animale=  10.0\n",
      "Pourcentage de disponibilité céréalière alloué à l'alimentation humaine =  76.4\n",
      "Pourcentage de disponibilité céréalière finissant en pertes = 5.6\n",
      "Pourcentage de disponibilité céréalière des autres utilisations =  8.0\n"
     ]
    }
   ],
   "source": [
    "# On calcule la part attribuée aux humains et aux animaux pour la dispo alim en céréales ainsi que les pertes et le reste des utilisations\n",
    "\n",
    "animaux_cereales = round(df_dispo_alim_cereales['Aliments pour animaux'].sum()*100/df_dispo_alim_cereales['Disponibilité intérieure'].sum(),1)\n",
    "print (\"Pourcentage de disponibilité céréalière alloué à l'alimentation animale= \", animaux_cereales)\n",
    "humains_cereales = round(df_dispo_alim_cereales['Nourriture'].sum()*100/df_dispo_alim_cereales['Disponibilité intérieure'].sum(),1)\n",
    "print (\"Pourcentage de disponibilité céréalière alloué à l'alimentation humaine = \", humains_cereales)\n",
    "pertes_cereales = round(df_dispo_alim_cereales['Pertes'].sum()*100/df_dispo_alim_cereales['Disponibilité intérieure'].sum(),1)\n",
    "print (\"Pourcentage de disponibilité céréalière finissant en pertes =\", pertes_cereales)\n",
    "print (\"Pourcentage de disponibilité céréalière des autres utilisations = \", round(100-(humains_cereales + animaux_cereales + pertes_cereales),1))"
   ]
  },
  {
   "cell_type": "code",
   "execution_count": 55,
   "metadata": {},
   "outputs": [
    {
     "data": {
      "image/png": "[encoded data removed]",
      "text/plain": [
       "<Figure size 700x700 with 1 Axes>"
      ]
     },
     "metadata": {},
     "output_type": "display_data"
    }
   ],
   "source": [
    "# On crée un graphique pour visualiser les résultats en incluant également les autres utilisations \n",
    "cer_prop = [36.3, 42.8, 4.5, 16.4]\n",
    "cer_label = ['Pourcentage alimentation animale', 'Pourcentage alimentation humaine', 'Pertes', 'Autres']\n",
    "plt.figure(figsize = (7,7))\n",
    "plt.pie(cer_prop, labels = cer_label, autopct = '%.2f%%', pctdistance = 0.76, \n",
    "        wedgeprops={'linewidth': 1.0,'edgecolor':'black'}, textprops={'fontsize': 12})\n",
    "plt.title(\"Utilisation des disponibilités intérieures mondiales pour la catégorie céréales\", fontweight = 'bold', fontsize = 15)\n",
    "plt.show()"
   ]
  },
  {
   "attachments": {},
   "cell_type": "markdown",
   "metadata": {},
   "source": [
    "### 3.2 L'utilisation de la disponibilité intérieure du manioc en Thaïlande"
   ]
  },
  {
   "cell_type": "code",
   "execution_count": 56,
   "metadata": {},
   "outputs": [],
   "source": [
    "# On calcule la population de la Thaïlande \n",
    "def thai_pop_2017(df_pop):\n",
    "    population_2017 = round((df_pop.loc[(df_pop['Zone'] == 'Thaïlande') & (df_pop['Année'] == 2017)]['Valeur']),0)\n",
    "    if len(population_2017)==0:\n",
    "        return None\n",
    "    else:\n",
    "        return population_2017.values[0]"
   ]
  },
  {
   "cell_type": "code",
   "execution_count": 57,
   "metadata": {},
   "outputs": [
    {
     "data": {
      "text/html": [
       "<div>\n",
       "<style scoped>\n",
       "    .dataframe tbody tr th:only-of-type {\n",
       "        vertical-align: middle;\n",
       "    }\n",
       "\n",
       "    .dataframe tbody tr th {\n",
       "        vertical-align: top;\n",
       "    }\n",
       "\n",
       "    .dataframe thead th {\n",
       "        text-align: right;\n",
       "    }\n",
       "</style>\n",
       "<table border=\"1\" class=\"dataframe\">\n",
       "  <thead>\n",
       "    <tr style=\"text-align: right;\">\n",
       "      <th></th>\n",
       "      <th>Zone</th>\n",
       "      <th>Année</th>\n",
       "      <th>pop_sous_nutri</th>\n",
       "      <th>thai_pop_2017</th>\n",
       "      <th>proportion_thai</th>\n",
       "    </tr>\n",
       "  </thead>\n",
       "  <tbody>\n",
       "    <tr>\n",
       "      <th>1114</th>\n",
       "      <td>Thaïlande</td>\n",
       "      <td>2017</td>\n",
       "      <td>6200.0</td>\n",
       "      <td>69210.0</td>\n",
       "      <td>8.96</td>\n",
       "    </tr>\n",
       "  </tbody>\n",
       "</table>\n",
       "</div>"
      ],
      "text/plain": [
       "           Zone  Année  pop_sous_nutri  thai_pop_2017  proportion_thai\n",
       "1114  Thaïlande   2017          6200.0        69210.0             8.96"
      ]
     },
     "execution_count": 57,
     "metadata": {},
     "output_type": "execute_result"
    }
   ],
   "source": [
    "# On crée un DF avec les données de sous nutrition de la Thaïlande couplées aux données de population\n",
    "thai_sous_nutri = df_sous_nutri.loc[(df_sous_nutri['Zone'] == 'Thaïlande') & (df_sous_nutri['Année'] == 2017)]\n",
    "population = thai_pop_2017(df_pop)\n",
    "thai_sous_nutri_pop= thai_sous_nutri.assign( thai_pop_2017 = population)\n",
    "thai_sous_nutri_pop['proportion_thai'] = round((thai_sous_nutri_pop['Valeur']/ thai_sous_nutri_pop['thai_pop_2017']*100),2)\n",
    "thai_sous_nutri_pop.rename(columns={'Valeur':\"pop_sous_nutri\"})"
   ]
  },
  {
   "attachments": {},
   "cell_type": "markdown",
   "metadata": {},
   "source": [
    "##### En 2017, en Thaïlande, 8,96% de la population était en état de sous-nutrition"
   ]
  },
  {
   "cell_type": "code",
   "execution_count": 58,
   "metadata": {},
   "outputs": [
    {
     "data": {
      "text/html": [
       "<div>\n",
       "<style scoped>\n",
       "    .dataframe tbody tr th:only-of-type {\n",
       "        vertical-align: middle;\n",
       "    }\n",
       "\n",
       "    .dataframe tbody tr th {\n",
       "        vertical-align: top;\n",
       "    }\n",
       "\n",
       "    .dataframe thead th {\n",
       "        text-align: right;\n",
       "    }\n",
       "</style>\n",
       "<table border=\"1\" class=\"dataframe\">\n",
       "  <thead>\n",
       "    <tr style=\"text-align: right;\">\n",
       "      <th></th>\n",
       "      <th>Zone</th>\n",
       "      <th>Produit</th>\n",
       "      <th>Origine</th>\n",
       "      <th>Aliments pour animaux</th>\n",
       "      <th>Autres Utilisations</th>\n",
       "      <th>Disponibilité alimentaire (Kcal/personne/jour)</th>\n",
       "      <th>Disponibilité alimentaire en quantité (kg/personne/an)</th>\n",
       "      <th>Disponibilité de matière grasse en quantité (g/personne/jour)</th>\n",
       "      <th>Disponibilité de protéines en quantité (g/personne/jour)</th>\n",
       "      <th>Disponibilité intérieure</th>\n",
       "      <th>...</th>\n",
       "      <th>Semences</th>\n",
       "      <th>Traitement</th>\n",
       "      <th>Variation de stock</th>\n",
       "      <th>Année_x</th>\n",
       "      <th>Valeur_x</th>\n",
       "      <th>Kcal/jour/population</th>\n",
       "      <th>Année_y</th>\n",
       "      <th>Valeur_y</th>\n",
       "      <th>thai_pop_2017</th>\n",
       "      <th>proportion_thai</th>\n",
       "    </tr>\n",
       "  </thead>\n",
       "  <tbody>\n",
       "    <tr>\n",
       "      <th>0</th>\n",
       "      <td>Thaïlande</td>\n",
       "      <td>Manioc</td>\n",
       "      <td>vegetale</td>\n",
       "      <td>1800.0</td>\n",
       "      <td>2081.0</td>\n",
       "      <td>40.0</td>\n",
       "      <td>13.0</td>\n",
       "      <td>0.05</td>\n",
       "      <td>0.14</td>\n",
       "      <td>6264.0</td>\n",
       "      <td>...</td>\n",
       "      <td>0.0</td>\n",
       "      <td>0.0</td>\n",
       "      <td>0.0</td>\n",
       "      <td>2017.0</td>\n",
       "      <td>69209.81</td>\n",
       "      <td>2768392.4</td>\n",
       "      <td>2017</td>\n",
       "      <td>6200.0</td>\n",
       "      <td>69210.0</td>\n",
       "      <td>8.96</td>\n",
       "    </tr>\n",
       "  </tbody>\n",
       "</table>\n",
       "<p>1 rows × 25 columns</p>\n",
       "</div>"
      ],
      "text/plain": [
       "        Zone Produit   Origine  Aliments pour animaux  Autres Utilisations  \\\n",
       "0  Thaïlande  Manioc  vegetale                 1800.0               2081.0   \n",
       "\n",
       "   Disponibilité alimentaire (Kcal/personne/jour)  \\\n",
       "0                                            40.0   \n",
       "\n",
       "   Disponibilité alimentaire en quantité (kg/personne/an)  \\\n",
       "0                                               13.0        \n",
       "\n",
       "   Disponibilité de matière grasse en quantité (g/personne/jour)  \\\n",
       "0                                               0.05               \n",
       "\n",
       "   Disponibilité de protéines en quantité (g/personne/jour)  \\\n",
       "0                                               0.14          \n",
       "\n",
       "   Disponibilité intérieure  ...  Semences  Traitement  Variation de stock  \\\n",
       "0                    6264.0  ...       0.0         0.0                 0.0   \n",
       "\n",
       "   Année_x  Valeur_x  Kcal/jour/population  Année_y  Valeur_y  thai_pop_2017  \\\n",
       "0   2017.0  69209.81             2768392.4     2017    6200.0        69210.0   \n",
       "\n",
       "   proportion_thai  \n",
       "0             8.96  \n",
       "\n",
       "[1 rows x 25 columns]"
      ]
     },
     "execution_count": 58,
     "metadata": {},
     "output_type": "execute_result"
    }
   ],
   "source": [
    "# Création d'un DataFrame filtrant les résultats sur la Thaïlande et le manioc\n",
    "df_thai_manioc_dispo_alim = df_dispo_alim.loc[\n",
    "    (df_dispo_alim[\"Zone\"] == \"Thaïlande\")\n",
    "    & (df_dispo_alim[\"Produit\"] == \"Manioc\")]\n",
    "\n",
    "# Création d'un df filtrant la population en sous-nutrition pour 2017\n",
    "sous_nut_2017 = thai_sous_nutri_pop.loc[\n",
    "    thai_sous_nutri_pop[\"Année\"] == 2017]\n",
    "\n",
    "# Jointure les deux DF\n",
    "\n",
    "df_manioc_thai_2017 = pd.merge(df_thai_manioc_dispo_alim, sous_nut_2017, on='Zone')\n",
    "df_manioc_thai_2017\n"
   ]
  },
  {
   "cell_type": "code",
   "execution_count": 59,
   "metadata": {},
   "outputs": [
    {
     "data": {
      "application/vnd.plotly.v1+json": {
       "config": {
        "plotlyServerURL": "https://plot.ly"
       },
       "data": [
        {
         "alignmentgroup": "True",
         "hovertemplate": "Utilisation=%{x}<br>Valeur (en milliers de tonnes)=%{y}<extra></extra>",
         "legendgroup": "Disponibilité intérieure",
         "marker": {
          "color": "#636efa",
          "pattern": {
           "shape": ""
          }
         },
         "name": "Disponibilité intérieure",
         "offsetgroup": "Disponibilité intérieure",
         "orientation": "v",
         "showlegend": true,
         "textposition": "auto",
         "type": "bar",
         "x": [
          "Disponibilité intérieure"
         ],
         "xaxis": "x",
         "y": [
          6264
         ],
         "yaxis": "y"
        },
        {
         "alignmentgroup": "True",
         "hovertemplate": "Utilisation=%{x}<br>Valeur (en milliers de tonnes)=%{y}<extra></extra>",
         "legendgroup": "Exportations",
         "marker": {
          "color": "#EF553B",
          "pattern": {
           "shape": ""
          }
         },
         "name": "Exportations",
         "offsetgroup": "Exportations",
         "orientation": "v",
         "showlegend": true,
         "textposition": "auto",
         "type": "bar",
         "x": [
          "Exportations"
         ],
         "xaxis": "x",
         "y": [
          25214
         ],
         "yaxis": "y"
        },
        {
         "alignmentgroup": "True",
         "hovertemplate": "Utilisation=%{x}<br>Valeur (en milliers de tonnes)=%{y}<extra></extra>",
         "legendgroup": "Production",
         "marker": {
          "color": "#00cc96",
          "pattern": {
           "shape": ""
          }
         },
         "name": "Production",
         "offsetgroup": "Production",
         "orientation": "v",
         "showlegend": true,
         "textposition": "auto",
         "type": "bar",
         "x": [
          "Production"
         ],
         "xaxis": "x",
         "y": [
          30228
         ],
         "yaxis": "y"
        },
        {
         "alignmentgroup": "True",
         "hovertemplate": "Utilisation=%{x}<br>Valeur (en milliers de tonnes)=%{y}<extra></extra>",
         "legendgroup": "Importations",
         "marker": {
          "color": "#ab63fa",
          "pattern": {
           "shape": ""
          }
         },
         "name": "Importations",
         "offsetgroup": "Importations",
         "orientation": "v",
         "showlegend": true,
         "textposition": "auto",
         "type": "bar",
         "x": [
          "Importations"
         ],
         "xaxis": "x",
         "y": [
          1250
         ],
         "yaxis": "y"
        },
        {
         "alignmentgroup": "True",
         "hovertemplate": "Utilisation=%{x}<br>Valeur (en milliers de tonnes)=%{y}<extra></extra>",
         "legendgroup": "Variation de stock",
         "marker": {
          "color": "#FFA15A",
          "pattern": {
           "shape": ""
          }
         },
         "name": "Variation de stock",
         "offsetgroup": "Variation de stock",
         "orientation": "v",
         "showlegend": true,
         "textposition": "auto",
         "type": "bar",
         "x": [
          "Variation de stock"
         ],
         "xaxis": "x",
         "y": [
          0
         ],
         "yaxis": "y"
        }
       ],
       "layout": {
        "barmode": "relative",
        "legend": {
         "title": {
          "text": "Utilisation"
         },
         "tracegroupgap": 0
        },
        "template": {
         "data": {
          "bar": [
           {
            "error_x": {
             "color": "#2a3f5f"
            },
            "error_y": {
             "color": "#2a3f5f"
            },
            "marker": {
             "line": {
              "color": "#E5ECF6",
              "width": 0.5
             },
             "pattern": {
              "fillmode": "overlay",
              "size": 10,
              "solidity": 0.2
             }
            },
            "type": "bar"
           }
          ],
          "barpolar": [
           {
            "marker": {
             "line": {
              "color": "#E5ECF6",
              "width": 0.5
             },
             "pattern": {
              "fillmode": "overlay",
              "size": 10,
              "solidity": 0.2
             }
            },
            "type": "barpolar"
           }
          ],
          "carpet": [
           {
            "aaxis": {
             "endlinecolor": "#2a3f5f",
             "gridcolor": "white",
             "linecolor": "white",
             "minorgridcolor": "white",
             "startlinecolor": "#2a3f5f"
            },
            "baxis": {
             "endlinecolor": "#2a3f5f",
             "gridcolor": "white",
             "linecolor": "white",
             "minorgridcolor": "white",
             "startlinecolor": "#2a3f5f"
            },
            "type": "carpet"
           }
          ],
          "choropleth": [
           {
            "colorbar": {
             "outlinewidth": 0,
             "ticks": ""
            },
            "type": "choropleth"
           }
          ],
          "contour": [
           {
            "colorbar": {
             "outlinewidth": 0,
             "ticks": ""
            },
            "colorscale": [
             [
              0,
              "#0d0887"
             ],
             [
              0.1111111111111111,
              "#46039f"
             ],
             [
              0.2222222222222222,
              "#7201a8"
             ],
             [
              0.3333333333333333,
              "#9c179e"
             ],
             [
              0.4444444444444444,
              "#bd3786"
             ],
             [
              0.5555555555555556,
              "#d8576b"
             ],
             [
              0.6666666666666666,
              "#ed7953"
             ],
             [
              0.7777777777777778,
              "#fb9f3a"
             ],
             [
              0.8888888888888888,
              "#fdca26"
             ],
             [
              1,
              "#f0f921"
             ]
            ],
            "type": "contour"
           }
          ],
          "contourcarpet": [
           {
            "colorbar": {
             "outlinewidth": 0,
             "ticks": ""
            },
            "type": "contourcarpet"
           }
          ],
          "heatmap": [
           {
            "colorbar": {
             "outlinewidth": 0,
             "ticks": ""
            },
            "colorscale": [
             [
              0,
              "#0d0887"
             ],
             [
              0.1111111111111111,
              "#46039f"
             ],
             [
              0.2222222222222222,
              "#7201a8"
             ],
             [
              0.3333333333333333,
              "#9c179e"
             ],
             [
              0.4444444444444444,
              "#bd3786"
             ],
             [
              0.5555555555555556,
              "#d8576b"
             ],
             [
              0.6666666666666666,
              "#ed7953"
             ],
             [
              0.7777777777777778,
              "#fb9f3a"
             ],
             [
              0.8888888888888888,
              "#fdca26"
             ],
             [
              1,
              "#f0f921"
             ]
            ],
            "type": "heatmap"
           }
          ],
          "heatmapgl": [
           {
            "colorbar": {
             "outlinewidth": 0,
             "ticks": ""
            },
            "colorscale": [
             [
              0,
              "#0d0887"
             ],
             [
              0.1111111111111111,
              "#46039f"
             ],
             [
              0.2222222222222222,
              "#7201a8"
             ],
             [
              0.3333333333333333,
              "#9c179e"
             ],
             [
              0.4444444444444444,
              "#bd3786"
             ],
             [
              0.5555555555555556,
              "#d8576b"
             ],
             [
              0.6666666666666666,
              "#ed7953"
             ],
             [
              0.7777777777777778,
              "#fb9f3a"
             ],
             [
              0.8888888888888888,
              "#fdca26"
             ],
             [
              1,
              "#f0f921"
             ]
            ],
            "type": "heatmapgl"
           }
          ],
          "histogram": [
           {
            "marker": {
             "pattern": {
              "fillmode": "overlay",
              "size": 10,
              "solidity": 0.2
             }
            },
            "type": "histogram"
           }
          ],
          "histogram2d": [
           {
            "colorbar": {
             "outlinewidth": 0,
             "ticks": ""
            },
            "colorscale": [
             [
              0,
              "#0d0887"
             ],
             [
              0.1111111111111111,
              "#46039f"
             ],
             [
              0.2222222222222222,
              "#7201a8"
             ],
             [
              0.3333333333333333,
              "#9c179e"
             ],
             [
              0.4444444444444444,
              "#bd3786"
             ],
             [
              0.5555555555555556,
              "#d8576b"
             ],
             [
              0.6666666666666666,
              "#ed7953"
             ],
             [
              0.7777777777777778,
              "#fb9f3a"
             ],
             [
              0.8888888888888888,
              "#fdca26"
             ],
             [
              1,
              "#f0f921"
             ]
            ],
            "type": "histogram2d"
           }
          ],
          "histogram2dcontour": [
           {
            "colorbar": {
             "outlinewidth": 0,
             "ticks": ""
            },
            "colorscale": [
             [
              0,
              "#0d0887"
             ],
             [
              0.1111111111111111,
              "#46039f"
             ],
             [
              0.2222222222222222,
              "#7201a8"
             ],
             [
              0.3333333333333333,
              "#9c179e"
             ],
             [
              0.4444444444444444,
              "#bd3786"
             ],
             [
              0.5555555555555556,
              "#d8576b"
             ],
             [
              0.6666666666666666,
              "#ed7953"
             ],
             [
              0.7777777777777778,
              "#fb9f3a"
             ],
             [
              0.8888888888888888,
              "#fdca26"
             ],
             [
              1,
              "#f0f921"
             ]
            ],
            "type": "histogram2dcontour"
           }
          ],
          "mesh3d": [
           {
            "colorbar": {
             "outlinewidth": 0,
             "ticks": ""
            },
            "type": "mesh3d"
           }
          ],
          "parcoords": [
           {
            "line": {
             "colorbar": {
              "outlinewidth": 0,
              "ticks": ""
             }
            },
            "type": "parcoords"
           }
          ],
          "pie": [
           {
            "automargin": true,
            "type": "pie"
           }
          ],
          "scatter": [
           {
            "fillpattern": {
             "fillmode": "overlay",
             "size": 10,
             "solidity": 0.2
            },
            "type": "scatter"
           }
          ],
          "scatter3d": [
           {
            "line": {
             "colorbar": {
              "outlinewidth": 0,
              "ticks": ""
             }
            },
            "marker": {
             "colorbar": {
              "outlinewidth": 0,
              "ticks": ""
             }
            },
            "type": "scatter3d"
           }
          ],
          "scattercarpet": [
           {
            "marker": {
             "colorbar": {
              "outlinewidth": 0,
              "ticks": ""
             }
            },
            "type": "scattercarpet"
           }
          ],
          "scattergeo": [
           {
            "marker": {
             "colorbar": {
              "outlinewidth": 0,
              "ticks": ""
             }
            },
            "type": "scattergeo"
           }
          ],
          "scattergl": [
           {
            "marker": {
             "colorbar": {
              "outlinewidth": 0,
              "ticks": ""
             }
            },
            "type": "scattergl"
           }
          ],
          "scattermapbox": [
           {
            "marker": {
             "colorbar": {
              "outlinewidth": 0,
              "ticks": ""
             }
            },
            "type": "scattermapbox"
           }
          ],
          "scatterpolar": [
           {
            "marker": {
             "colorbar": {
              "outlinewidth": 0,
              "ticks": ""
             }
            },
            "type": "scatterpolar"
           }
          ],
          "scatterpolargl": [
           {
            "marker": {
             "colorbar": {
              "outlinewidth": 0,
              "ticks": ""
             }
            },
            "type": "scatterpolargl"
           }
          ],
          "scatterternary": [
           {
            "marker": {
             "colorbar": {
              "outlinewidth": 0,
              "ticks": ""
             }
            },
            "type": "scatterternary"
           }
          ],
          "surface": [
           {
            "colorbar": {
             "outlinewidth": 0,
             "ticks": ""
            },
            "colorscale": [
             [
              0,
              "#0d0887"
             ],
             [
              0.1111111111111111,
              "#46039f"
             ],
             [
              0.2222222222222222,
              "#7201a8"
             ],
             [
              0.3333333333333333,
              "#9c179e"
             ],
             [
              0.4444444444444444,
              "#bd3786"
             ],
             [
              0.5555555555555556,
              "#d8576b"
             ],
             [
              0.6666666666666666,
              "#ed7953"
             ],
             [
              0.7777777777777778,
              "#fb9f3a"
             ],
             [
              0.8888888888888888,
              "#fdca26"
             ],
             [
              1,
              "#f0f921"
             ]
            ],
            "type": "surface"
           }
          ],
          "table": [
           {
            "cells": {
             "fill": {
              "color": "#EBF0F8"
             },
             "line": {
              "color": "white"
             }
            },
            "header": {
             "fill": {
              "color": "#C8D4E3"
             },
             "line": {
              "color": "white"
             }
            },
            "type": "table"
           }
          ]
         },
         "layout": {
          "annotationdefaults": {
           "arrowcolor": "#2a3f5f",
           "arrowhead": 0,
           "arrowwidth": 1
          },
          "autotypenumbers": "strict",
          "coloraxis": {
           "colorbar": {
            "outlinewidth": 0,
            "ticks": ""
           }
          },
          "colorscale": {
           "diverging": [
            [
             0,
             "#8e0152"
            ],
            [
             0.1,
             "#c51b7d"
            ],
            [
             0.2,
             "#de77ae"
            ],
            [
             0.3,
             "#f1b6da"
            ],
            [
             0.4,
             "#fde0ef"
            ],
            [
             0.5,
             "#f7f7f7"
            ],
            [
             0.6,
             "#e6f5d0"
            ],
            [
             0.7,
             "#b8e186"
            ],
            [
             0.8,
             "#7fbc41"
            ],
            [
             0.9,
             "#4d9221"
            ],
            [
             1,
             "#276419"
            ]
           ],
           "sequential": [
            [
             0,
             "#0d0887"
            ],
            [
             0.1111111111111111,
             "#46039f"
            ],
            [
             0.2222222222222222,
             "#7201a8"
            ],
            [
             0.3333333333333333,
             "#9c179e"
            ],
            [
             0.4444444444444444,
             "#bd3786"
            ],
            [
             0.5555555555555556,
             "#d8576b"
            ],
            [
             0.6666666666666666,
             "#ed7953"
            ],
            [
             0.7777777777777778,
             "#fb9f3a"
            ],
            [
             0.8888888888888888,
             "#fdca26"
            ],
            [
             1,
             "#f0f921"
            ]
           ],
           "sequentialminus": [
            [
             0,
             "#0d0887"
            ],
            [
             0.1111111111111111,
             "#46039f"
            ],
            [
             0.2222222222222222,
             "#7201a8"
            ],
            [
             0.3333333333333333,
             "#9c179e"
            ],
            [
             0.4444444444444444,
             "#bd3786"
            ],
            [
             0.5555555555555556,
             "#d8576b"
            ],
            [
             0.6666666666666666,
             "#ed7953"
            ],
            [
             0.7777777777777778,
             "#fb9f3a"
            ],
            [
             0.8888888888888888,
             "#fdca26"
            ],
            [
             1,
             "#f0f921"
            ]
           ]
          },
          "colorway": [
           "#636efa",
           "#EF553B",
           "#00cc96",
           "#ab63fa",
           "#FFA15A",
           "#19d3f3",
           "#FF6692",
           "#B6E880",
           "#FF97FF",
           "#FECB52"
          ],
          "font": {
           "color": "#2a3f5f"
          },
          "geo": {
           "bgcolor": "white",
           "lakecolor": "white",
           "landcolor": "#E5ECF6",
           "showlakes": true,
           "showland": true,
           "subunitcolor": "white"
          },
          "hoverlabel": {
           "align": "left"
          },
          "hovermode": "closest",
          "mapbox": {
           "style": "light"
          },
          "paper_bgcolor": "white",
          "plot_bgcolor": "#E5ECF6",
          "polar": {
           "angularaxis": {
            "gridcolor": "white",
            "linecolor": "white",
            "ticks": ""
           },
           "bgcolor": "#E5ECF6",
           "radialaxis": {
            "gridcolor": "white",
            "linecolor": "white",
            "ticks": ""
           }
          },
          "scene": {
           "xaxis": {
            "backgroundcolor": "#E5ECF6",
            "gridcolor": "white",
            "gridwidth": 2,
            "linecolor": "white",
            "showbackground": true,
            "ticks": "",
            "zerolinecolor": "white"
           },
           "yaxis": {
            "backgroundcolor": "#E5ECF6",
            "gridcolor": "white",
            "gridwidth": 2,
            "linecolor": "white",
            "showbackground": true,
            "ticks": "",
            "zerolinecolor": "white"
           },
           "zaxis": {
            "backgroundcolor": "#E5ECF6",
            "gridcolor": "white",
            "gridwidth": 2,
            "linecolor": "white",
            "showbackground": true,
            "ticks": "",
            "zerolinecolor": "white"
           }
          },
          "shapedefaults": {
           "line": {
            "color": "#2a3f5f"
           }
          },
          "ternary": {
           "aaxis": {
            "gridcolor": "white",
            "linecolor": "white",
            "ticks": ""
           },
           "baxis": {
            "gridcolor": "white",
            "linecolor": "white",
            "ticks": ""
           },
           "bgcolor": "#E5ECF6",
           "caxis": {
            "gridcolor": "white",
            "linecolor": "white",
            "ticks": ""
           }
          },
          "title": {
           "x": 0.05
          },
          "xaxis": {
           "automargin": true,
           "gridcolor": "white",
           "linecolor": "white",
           "ticks": "",
           "title": {
            "standoff": 15
           },
           "zerolinecolor": "white",
           "zerolinewidth": 2
          },
          "yaxis": {
           "automargin": true,
           "gridcolor": "white",
           "linecolor": "white",
           "ticks": "",
           "title": {
            "standoff": 15
           },
           "zerolinecolor": "white",
           "zerolinewidth": 2
          }
         }
        },
        "title": {
         "text": "<b>Provenance et utilisation du manioc en Thaïlande</b>"
        },
        "xaxis": {
         "anchor": "y",
         "categoryarray": [
          "Disponibilité intérieure",
          "Exportations",
          "Production",
          "Importations",
          "Variation de stock"
         ],
         "categoryorder": "array",
         "domain": [
          0,
          1
         ],
         "title": {
          "text": "Utilisation"
         }
        },
        "yaxis": {
         "anchor": "x",
         "domain": [
          0,
          1
         ],
         "title": {
          "text": "Valeur (en milliers de tonnes)"
         }
        }
       }
      }
     },
     "metadata": {},
     "output_type": "display_data"
    }
   ],
   "source": [
    "# On crée un graphique afin de visualiser la répartition de l'utilisation du manioc\n",
    "\n",
    "# On créé un dataframe pour manipuler nos données dans des graphiques\n",
    "utilisation_manioc_thailande = df_manioc_thai_2017[\n",
    "    [\"Disponibilité intérieure\", \"Exportations - Quantité\", \"Production\", \"Importations - Quantité\", \"Variation de stock\"]]\n",
    "\n",
    "# On modifie le nom en guise de changement de label en amont\n",
    "utilisation_manioc_thailande = utilisation_manioc_thailande.rename(columns={\"Exportations - Quantité\": \"Exportations\",\n",
    "\"Importations - Quantité\": \"Importations\"})\n",
    "\n",
    "# On transforme nos colonnes en lignes pour les utiliser en catégories\n",
    "bar_manioc_thailande = pd.melt(utilisation_manioc_thailande, var_name=\"Utilisation\",\n",
    "                               value_name=\"Valeur (en milliers de tonnes)\", value_vars=None, ignore_index=False)\n",
    "\n",
    "# On utilise .to_numeric pour améliorer la lecture de la valeur\n",
    "bar_manioc_thailande[\"Valeur (en milliers de tonnes)\"] = pd.to_numeric(\n",
    "    bar_manioc_thailande[\"Valeur (en milliers de tonnes)\"])\n",
    "\n",
    "# on reset l'index\n",
    "bar_manioc_thailande.reset_index(drop=True, inplace=True)\n",
    "\n",
    "fig = px.bar(bar_manioc_thailande,\n",
    "             x=\"Utilisation\",\n",
    "             y=\"Valeur (en milliers de tonnes)\",\n",
    "             color=\"Utilisation\",\n",
    "             title=\"<b>Provenance et utilisation du manioc en Thaïlande</b>\"\n",
    "             )\n",
    "\n",
    "fig.show()"
   ]
  },
  {
   "cell_type": "code",
   "execution_count": 60,
   "metadata": {},
   "outputs": [
    {
     "data": {
      "text/html": [
       "<div>\n",
       "<style scoped>\n",
       "    .dataframe tbody tr th:only-of-type {\n",
       "        vertical-align: middle;\n",
       "    }\n",
       "\n",
       "    .dataframe tbody tr th {\n",
       "        vertical-align: top;\n",
       "    }\n",
       "\n",
       "    .dataframe thead th {\n",
       "        text-align: right;\n",
       "    }\n",
       "</style>\n",
       "<table border=\"1\" class=\"dataframe\">\n",
       "  <thead>\n",
       "    <tr style=\"text-align: right;\">\n",
       "      <th></th>\n",
       "      <th>Disponibilité intérieure</th>\n",
       "      <th>Exportations</th>\n",
       "      <th>Production</th>\n",
       "      <th>Importations</th>\n",
       "      <th>Variation de stock</th>\n",
       "      <th>prop_exp</th>\n",
       "      <th>prop_imp</th>\n",
       "    </tr>\n",
       "  </thead>\n",
       "  <tbody>\n",
       "    <tr>\n",
       "      <th>0</th>\n",
       "      <td>6264.0</td>\n",
       "      <td>25214.0</td>\n",
       "      <td>30228.0</td>\n",
       "      <td>1250.0</td>\n",
       "      <td>0.0</td>\n",
       "      <td>83.41</td>\n",
       "      <td>4.14</td>\n",
       "    </tr>\n",
       "  </tbody>\n",
       "</table>\n",
       "</div>"
      ],
      "text/plain": [
       "   Disponibilité intérieure  Exportations  Production  Importations  \\\n",
       "0                    6264.0       25214.0     30228.0        1250.0   \n",
       "\n",
       "   Variation de stock  prop_exp  prop_imp  \n",
       "0                 0.0     83.41      4.14  "
      ]
     },
     "execution_count": 60,
     "metadata": {},
     "output_type": "execute_result"
    }
   ],
   "source": [
    "utilisation_manioc_thailande.assign(prop_exp= round(utilisation_manioc_thailande['Exportations']/utilisation_manioc_thailande['Production']*100, 2), \n",
    "prop_imp= round(utilisation_manioc_thailande['Importations']/utilisation_manioc_thailande['Production']*100, 2))\n",
    "\n",
    "\n",
    "\n"
   ]
  },
  {
   "attachments": {},
   "cell_type": "markdown",
   "metadata": {},
   "source": [
    "#### On constate que 83,41% de la production de manioc de la Thaïlande est exportée alors que dans le même temps 8.96% de la population est en état de sous-nutrtition. La Thaïlande a également recours à l'importation pour le manioc à hauteur de 4,14% malgré des chiffres élevés en ce qui concerne la production. "
   ]
  },
  {
   "attachments": {},
   "cell_type": "markdown",
   "metadata": {},
   "source": [
    "# 4 Les demandes de Mélanie"
   ]
  },
  {
   "attachments": {},
   "cell_type": "markdown",
   "metadata": {},
   "source": [
    "### 4.1 Pays pour lesquels la proportion de personnes sous-alimentées est la plus forte en 2017"
   ]
  },
  {
   "cell_type": "code",
   "execution_count": 61,
   "metadata": {},
   "outputs": [],
   "source": [
    "# A l'aide d'une jointure, on crée un DF contenant la population en sous-nutrition et la population totale\n",
    "df_sous_nutri_pop_v1 = pd.merge(\n",
    "df_sous_nutri, df_pop, how=\"left\", on=[\"Zone\", \"Année\"])\n",
    "df_prop_sous_nutri = df_sous_nutri_pop_v1.rename(\n",
    "columns={\"Valeur_x\": \"Population en sous-nutrition\", \"Valeur_y\": \"Population totale\"})"
   ]
  },
  {
   "cell_type": "code",
   "execution_count": 62,
   "metadata": {},
   "outputs": [
    {
     "data": {
      "text/html": [
       "<div>\n",
       "<style scoped>\n",
       "    .dataframe tbody tr th:only-of-type {\n",
       "        vertical-align: middle;\n",
       "    }\n",
       "\n",
       "    .dataframe tbody tr th {\n",
       "        vertical-align: top;\n",
       "    }\n",
       "\n",
       "    .dataframe thead th {\n",
       "        text-align: right;\n",
       "    }\n",
       "</style>\n",
       "<table border=\"1\" class=\"dataframe\">\n",
       "  <thead>\n",
       "    <tr style=\"text-align: right;\">\n",
       "      <th></th>\n",
       "      <th>Zone</th>\n",
       "      <th>Année</th>\n",
       "      <th>Population en sous-nutrition</th>\n",
       "      <th>Population totale</th>\n",
       "      <th>Proportion_Pop_Sous_Nutrition</th>\n",
       "    </tr>\n",
       "  </thead>\n",
       "  <tbody>\n",
       "    <tr>\n",
       "      <th>249</th>\n",
       "      <td>Haïti</td>\n",
       "      <td>2017</td>\n",
       "      <td>5300.0</td>\n",
       "      <td>10982.366</td>\n",
       "      <td>48.259182</td>\n",
       "    </tr>\n",
       "    <tr>\n",
       "      <th>496</th>\n",
       "      <td>République populaire démocratique de Corée</td>\n",
       "      <td>2017</td>\n",
       "      <td>12000.0</td>\n",
       "      <td>25429.825</td>\n",
       "      <td>47.188685</td>\n",
       "    </tr>\n",
       "    <tr>\n",
       "      <th>346</th>\n",
       "      <td>Madagascar</td>\n",
       "      <td>2017</td>\n",
       "      <td>10500.0</td>\n",
       "      <td>25570.512</td>\n",
       "      <td>41.062924</td>\n",
       "    </tr>\n",
       "    <tr>\n",
       "      <th>334</th>\n",
       "      <td>Libéria</td>\n",
       "      <td>2017</td>\n",
       "      <td>1800.0</td>\n",
       "      <td>4702.226</td>\n",
       "      <td>38.279742</td>\n",
       "    </tr>\n",
       "    <tr>\n",
       "      <th>322</th>\n",
       "      <td>Lesotho</td>\n",
       "      <td>2017</td>\n",
       "      <td>800.0</td>\n",
       "      <td>2091.534</td>\n",
       "      <td>38.249438</td>\n",
       "    </tr>\n",
       "    <tr>\n",
       "      <th>569</th>\n",
       "      <td>Tchad</td>\n",
       "      <td>2017</td>\n",
       "      <td>5700.0</td>\n",
       "      <td>15016.753</td>\n",
       "      <td>37.957606</td>\n",
       "    </tr>\n",
       "    <tr>\n",
       "      <th>508</th>\n",
       "      <td>Rwanda</td>\n",
       "      <td>2017</td>\n",
       "      <td>4200.0</td>\n",
       "      <td>11980.961</td>\n",
       "      <td>35.055619</td>\n",
       "    </tr>\n",
       "    <tr>\n",
       "      <th>400</th>\n",
       "      <td>Mozambique</td>\n",
       "      <td>2017</td>\n",
       "      <td>9400.0</td>\n",
       "      <td>28649.018</td>\n",
       "      <td>32.810898</td>\n",
       "    </tr>\n",
       "    <tr>\n",
       "      <th>581</th>\n",
       "      <td>Timor-Leste</td>\n",
       "      <td>2017</td>\n",
       "      <td>400.0</td>\n",
       "      <td>1243.258</td>\n",
       "      <td>32.173531</td>\n",
       "    </tr>\n",
       "    <tr>\n",
       "      <th>4</th>\n",
       "      <td>Afghanistan</td>\n",
       "      <td>2017</td>\n",
       "      <td>10500.0</td>\n",
       "      <td>36296.113</td>\n",
       "      <td>28.928718</td>\n",
       "    </tr>\n",
       "  </tbody>\n",
       "</table>\n",
       "</div>"
      ],
      "text/plain": [
       "                                           Zone  Année  \\\n",
       "249                                       Haïti   2017   \n",
       "496  République populaire démocratique de Corée   2017   \n",
       "346                                  Madagascar   2017   \n",
       "334                                     Libéria   2017   \n",
       "322                                     Lesotho   2017   \n",
       "569                                       Tchad   2017   \n",
       "508                                      Rwanda   2017   \n",
       "400                                  Mozambique   2017   \n",
       "581                                 Timor-Leste   2017   \n",
       "4                                   Afghanistan   2017   \n",
       "\n",
       "     Population en sous-nutrition  Population totale  \\\n",
       "249                        5300.0          10982.366   \n",
       "496                       12000.0          25429.825   \n",
       "346                       10500.0          25570.512   \n",
       "334                        1800.0           4702.226   \n",
       "322                         800.0           2091.534   \n",
       "569                        5700.0          15016.753   \n",
       "508                        4200.0          11980.961   \n",
       "400                        9400.0          28649.018   \n",
       "581                         400.0           1243.258   \n",
       "4                         10500.0          36296.113   \n",
       "\n",
       "     Proportion_Pop_Sous_Nutrition  \n",
       "249                      48.259182  \n",
       "496                      47.188685  \n",
       "346                      41.062924  \n",
       "334                      38.279742  \n",
       "322                      38.249438  \n",
       "569                      37.957606  \n",
       "508                      35.055619  \n",
       "400                      32.810898  \n",
       "581                      32.173531  \n",
       "4                        28.928718  "
      ]
     },
     "execution_count": 62,
     "metadata": {},
     "output_type": "execute_result"
    }
   ],
   "source": [
    "# On crée une colonne correspondant à la proportion de personnes en sous-nutrition par pays\n",
    "df_prop_sous_nutri= df_prop_sous_nutri.assign(\n",
    "Proportion_Pop_Sous_Nutrition=(df_prop_sous_nutri[\"Population en sous-nutrition\"]/\n",
    "df_prop_sous_nutri[\"Population totale\"]*100))\n",
    "df_prop_sous_nutri.loc[df_prop_sous_nutri[\"Année\"] == 2017].sort_values(by=\"Proportion_Pop_Sous_Nutrition\", ascending=False).head(10)\n"
   ]
  },
  {
   "attachments": {},
   "cell_type": "markdown",
   "metadata": {},
   "source": [
    "### 4.2 Les pays ayant le plus bénéficié d'aides depuis 2013"
   ]
  },
  {
   "cell_type": "code",
   "execution_count": 63,
   "metadata": {},
   "outputs": [
    {
     "name": "stdout",
     "output_type": "stream",
     "text": [
      "Les 10 Pays qui ont le plus bénéficié d'aide alimentaire (tonnes) depuis 2013 sont: \n"
     ]
    },
    {
     "data": {
      "text/html": [
       "<div>\n",
       "<style scoped>\n",
       "    .dataframe tbody tr th:only-of-type {\n",
       "        vertical-align: middle;\n",
       "    }\n",
       "\n",
       "    .dataframe tbody tr th {\n",
       "        vertical-align: top;\n",
       "    }\n",
       "\n",
       "    .dataframe thead th {\n",
       "        text-align: right;\n",
       "    }\n",
       "</style>\n",
       "<table border=\"1\" class=\"dataframe\">\n",
       "  <thead>\n",
       "    <tr style=\"text-align: right;\">\n",
       "      <th></th>\n",
       "      <th>Valeur</th>\n",
       "    </tr>\n",
       "    <tr>\n",
       "      <th>Pays bénéficiaire</th>\n",
       "      <th></th>\n",
       "    </tr>\n",
       "  </thead>\n",
       "  <tbody>\n",
       "    <tr>\n",
       "      <th>République arabe syrienne</th>\n",
       "      <td>1858943</td>\n",
       "    </tr>\n",
       "    <tr>\n",
       "      <th>Éthiopie</th>\n",
       "      <td>1381294</td>\n",
       "    </tr>\n",
       "    <tr>\n",
       "      <th>Yémen</th>\n",
       "      <td>1206484</td>\n",
       "    </tr>\n",
       "    <tr>\n",
       "      <th>Soudan du Sud</th>\n",
       "      <td>695248</td>\n",
       "    </tr>\n",
       "    <tr>\n",
       "      <th>Soudan</th>\n",
       "      <td>669784</td>\n",
       "    </tr>\n",
       "    <tr>\n",
       "      <th>Kenya</th>\n",
       "      <td>552836</td>\n",
       "    </tr>\n",
       "    <tr>\n",
       "      <th>Bangladesh</th>\n",
       "      <td>348188</td>\n",
       "    </tr>\n",
       "    <tr>\n",
       "      <th>Somalie</th>\n",
       "      <td>292678</td>\n",
       "    </tr>\n",
       "    <tr>\n",
       "      <th>République démocratique du Congo</th>\n",
       "      <td>288502</td>\n",
       "    </tr>\n",
       "    <tr>\n",
       "      <th>Niger</th>\n",
       "      <td>276344</td>\n",
       "    </tr>\n",
       "  </tbody>\n",
       "</table>\n",
       "</div>"
      ],
      "text/plain": [
       "                                   Valeur\n",
       "Pays bénéficiaire                        \n",
       "République arabe syrienne         1858943\n",
       "Éthiopie                          1381294\n",
       "Yémen                             1206484\n",
       "Soudan du Sud                      695248\n",
       "Soudan                             669784\n",
       "Kenya                              552836\n",
       "Bangladesh                         348188\n",
       "Somalie                            292678\n",
       "République démocratique du Congo   288502\n",
       "Niger                              276344"
      ]
     },
     "execution_count": 63,
     "metadata": {},
     "output_type": "execute_result"
    }
   ],
   "source": [
    "# On crée un tableau croisé dynamique qui contient le montant d'aide alimentaire reçu par pays depuis 2013\n",
    "# via une fonction d'aggrégation reposant sur Numpy et on affiche ensuite un top 10 des pays qui ont le plus bénéficié grâce à un tri\n",
    "pt_aide_alimentaire = df_aide_alim.pivot_table(\n",
    "    values=[\"Valeur\"],\n",
    "    index=\"Pays bénéficiaire\",\n",
    "    aggfunc={\"Valeur\": np.sum}\n",
    ")\n",
    "\n",
    "print(\"Les 10 Pays qui ont le plus bénéficié d'aide alimentaire (tonnes) depuis 2013 sont: \")\n",
    "pt_aide_alimentaire.sort_values(by=\"Valeur\", ascending=False).head(10)"
   ]
  },
  {
   "attachments": {},
   "cell_type": "markdown",
   "metadata": {},
   "source": [
    "### 4.3 Quels sont ceux ayant le plus et le moins de disponibilité par habitant?"
   ]
  },
  {
   "attachments": {},
   "cell_type": "markdown",
   "metadata": {},
   "source": [
    "#### 4.3.1 Top 10 pays ayant le plus de disponibilité "
   ]
  },
  {
   "cell_type": "code",
   "execution_count": 64,
   "metadata": {},
   "outputs": [
    {
     "name": "stdout",
     "output_type": "stream",
     "text": [
      "Top 10 pays ayant le plus de disponibilité alimentaire par habitant en 2017:\n"
     ]
    },
    {
     "data": {
      "text/html": [
       "<div>\n",
       "<style scoped>\n",
       "    .dataframe tbody tr th:only-of-type {\n",
       "        vertical-align: middle;\n",
       "    }\n",
       "\n",
       "    .dataframe tbody tr th {\n",
       "        vertical-align: top;\n",
       "    }\n",
       "\n",
       "    .dataframe thead th {\n",
       "        text-align: right;\n",
       "    }\n",
       "</style>\n",
       "<table border=\"1\" class=\"dataframe\">\n",
       "  <thead>\n",
       "    <tr style=\"text-align: right;\">\n",
       "      <th></th>\n",
       "      <th>Disponibilité alimentaire (Kcal/personne/jour)</th>\n",
       "    </tr>\n",
       "    <tr>\n",
       "      <th>Zone</th>\n",
       "      <th></th>\n",
       "    </tr>\n",
       "  </thead>\n",
       "  <tbody>\n",
       "    <tr>\n",
       "      <th>Autriche</th>\n",
       "      <td>3770.0</td>\n",
       "    </tr>\n",
       "    <tr>\n",
       "      <th>Belgique</th>\n",
       "      <td>3737.0</td>\n",
       "    </tr>\n",
       "    <tr>\n",
       "      <th>Turquie</th>\n",
       "      <td>3708.0</td>\n",
       "    </tr>\n",
       "    <tr>\n",
       "      <th>États-Unis d'Amérique</th>\n",
       "      <td>3682.0</td>\n",
       "    </tr>\n",
       "    <tr>\n",
       "      <th>Israël</th>\n",
       "      <td>3610.0</td>\n",
       "    </tr>\n",
       "    <tr>\n",
       "      <th>Irlande</th>\n",
       "      <td>3602.0</td>\n",
       "    </tr>\n",
       "    <tr>\n",
       "      <th>Italie</th>\n",
       "      <td>3578.0</td>\n",
       "    </tr>\n",
       "    <tr>\n",
       "      <th>Luxembourg</th>\n",
       "      <td>3540.0</td>\n",
       "    </tr>\n",
       "    <tr>\n",
       "      <th>Égypte</th>\n",
       "      <td>3518.0</td>\n",
       "    </tr>\n",
       "    <tr>\n",
       "      <th>Allemagne</th>\n",
       "      <td>3503.0</td>\n",
       "    </tr>\n",
       "  </tbody>\n",
       "</table>\n",
       "</div>"
      ],
      "text/plain": [
       "                       Disponibilité alimentaire (Kcal/personne/jour)\n",
       "Zone                                                                 \n",
       "Autriche                                                       3770.0\n",
       "Belgique                                                       3737.0\n",
       "Turquie                                                        3708.0\n",
       "États-Unis d'Amérique                                          3682.0\n",
       "Israël                                                         3610.0\n",
       "Irlande                                                        3602.0\n",
       "Italie                                                         3578.0\n",
       "Luxembourg                                                     3540.0\n",
       "Égypte                                                         3518.0\n",
       "Allemagne                                                      3503.0"
      ]
     },
     "execution_count": 64,
     "metadata": {},
     "output_type": "execute_result"
    }
   ],
   "source": [
    "# On crée un tableau croisé dynamique qui contient la disponibilité alimentaire par pays et on effectue un classement dans l'ordre décroissant\n",
    "# On affiche ensuite un top 10\n",
    "pt_dispo_alim = df_dispo_alim.pivot_table(\n",
    "    values=[\"Disponibilité alimentaire (Kcal/personne/jour)\"],\n",
    "    index=\"Zone\",\n",
    "    aggfunc={\"Disponibilité alimentaire (Kcal/personne/jour)\": np.sum})\n",
    "print(\"Top 10 pays ayant le plus de disponibilité alimentaire par habitant en 2017:\")\n",
    "pt_dispo_alim.sort_values(\n",
    "    by=\"Disponibilité alimentaire (Kcal/personne/jour)\", ascending=False).head(10)"
   ]
  },
  {
   "attachments": {},
   "cell_type": "markdown",
   "metadata": {},
   "source": [
    "#### 4.3.2 Top 10 pays ayant le moins de disponibilité "
   ]
  },
  {
   "cell_type": "code",
   "execution_count": 65,
   "metadata": {},
   "outputs": [
    {
     "name": "stdout",
     "output_type": "stream",
     "text": [
      "Classement des 10 pays ayant le moins de disponibilité alimentaire par habitant en 2017:\n"
     ]
    },
    {
     "data": {
      "text/html": [
       "<div>\n",
       "<style scoped>\n",
       "    .dataframe tbody tr th:only-of-type {\n",
       "        vertical-align: middle;\n",
       "    }\n",
       "\n",
       "    .dataframe tbody tr th {\n",
       "        vertical-align: top;\n",
       "    }\n",
       "\n",
       "    .dataframe thead th {\n",
       "        text-align: right;\n",
       "    }\n",
       "</style>\n",
       "<table border=\"1\" class=\"dataframe\">\n",
       "  <thead>\n",
       "    <tr style=\"text-align: right;\">\n",
       "      <th></th>\n",
       "      <th>Disponibilité alimentaire (Kcal/personne/jour)</th>\n",
       "    </tr>\n",
       "    <tr>\n",
       "      <th>Zone</th>\n",
       "      <th></th>\n",
       "    </tr>\n",
       "  </thead>\n",
       "  <tbody>\n",
       "    <tr>\n",
       "      <th>République centrafricaine</th>\n",
       "      <td>1879.0</td>\n",
       "    </tr>\n",
       "    <tr>\n",
       "      <th>Zambie</th>\n",
       "      <td>1924.0</td>\n",
       "    </tr>\n",
       "    <tr>\n",
       "      <th>Madagascar</th>\n",
       "      <td>2056.0</td>\n",
       "    </tr>\n",
       "    <tr>\n",
       "      <th>Afghanistan</th>\n",
       "      <td>2087.0</td>\n",
       "    </tr>\n",
       "    <tr>\n",
       "      <th>Haïti</th>\n",
       "      <td>2089.0</td>\n",
       "    </tr>\n",
       "    <tr>\n",
       "      <th>République populaire démocratique de Corée</th>\n",
       "      <td>2093.0</td>\n",
       "    </tr>\n",
       "    <tr>\n",
       "      <th>Tchad</th>\n",
       "      <td>2109.0</td>\n",
       "    </tr>\n",
       "    <tr>\n",
       "      <th>Zimbabwe</th>\n",
       "      <td>2113.0</td>\n",
       "    </tr>\n",
       "    <tr>\n",
       "      <th>Ouganda</th>\n",
       "      <td>2126.0</td>\n",
       "    </tr>\n",
       "    <tr>\n",
       "      <th>Timor-Leste</th>\n",
       "      <td>2129.0</td>\n",
       "    </tr>\n",
       "  </tbody>\n",
       "</table>\n",
       "</div>"
      ],
      "text/plain": [
       "                                            Disponibilité alimentaire (Kcal/personne/jour)\n",
       "Zone                                                                                      \n",
       "République centrafricaine                                                           1879.0\n",
       "Zambie                                                                              1924.0\n",
       "Madagascar                                                                          2056.0\n",
       "Afghanistan                                                                         2087.0\n",
       "Haïti                                                                               2089.0\n",
       "République populaire démocratique de Corée                                          2093.0\n",
       "Tchad                                                                               2109.0\n",
       "Zimbabwe                                                                            2113.0\n",
       "Ouganda                                                                             2126.0\n",
       "Timor-Leste                                                                         2129.0"
      ]
     },
     "execution_count": 65,
     "metadata": {},
     "output_type": "execute_result"
    }
   ],
   "source": [
    "# On utilise le même tableau croisé dynamique mais en classant cette fois-ci dans l'ordre croissant \n",
    "print(\"Classement des 10 pays ayant le moins de disponibilité alimentaire par habitant en 2017:\")\n",
    "pt_dispo_alim.sort_values(\n",
    "    by=\"Disponibilité alimentaire (Kcal/personne/jour)\").head(10)"
   ]
  }
 ],
 "metadata": {
  "kernelspec": {
   "display_name": "envocp6",
   "language": "python",
   "name": "python3"
  },
  "language_info": {
   "codemirror_mode": {
    "name": "ipython",
    "version": 3
   },
   "file_extension": ".py",
   "mimetype": "text/x-python",
   "name": "python",
   "nbconvert_exporter": "python",
   "pygments_lexer": "ipython3",
   "version": "3.11.0"
  },
  "orig_nbformat": 4,
  "vscode": {
   "interpreter": {
    "hash": "a47d1230dc635439292886361165ef6fb372217f4ff978ebbf4f77a499369f1a"
   }
  }
 },
 "nbformat": 4,
 "nbformat_minor": 2
}
